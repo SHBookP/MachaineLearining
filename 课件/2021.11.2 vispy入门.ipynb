{
 "cells": [
  {
   "cell_type": "markdown",
   "metadata": {},
   "source": [
    "版权声明：本材料是南开大学“python语言与机器学习”课程课件，版权归课程老师朱开恩所有。允许拷贝、分发使用，允许修改，但是请保留此版权声明。\n",
    "\n",
    "版本时间：2020年9月"
   ]
  },
  {
   "cell_type": "markdown",
   "metadata": {},
   "source": [
    "# 安装、例子"
   ]
  },
  {
   "cell_type": "markdown",
   "metadata": {},
   "source": [
    "安装： sudo pip3 install pyqt5 vispy\n",
    "\n",
    "下载例子  https://github.com/vispy/vispy  里面，点击clone or download 可以下载vispy代码，里面的examples目录有各种例子。"
   ]
  },
  {
   "cell_type": "markdown",
   "metadata": {},
   "source": [
    "# 与jupyter-notebook的不兼容性"
   ]
  },
  {
   "cell_type": "markdown",
   "metadata": {},
   "source": [
    "<font size=5 color='red'> 目前不兼容，请用py文件和命令行运行。 </font>"
   ]
  },
  {
   "cell_type": "markdown",
   "metadata": {},
   "source": [
    "# 三维数据的显示技术: 从OpenGL到Vispy"
   ]
  },
  {
   "cell_type": "markdown",
   "metadata": {},
   "source": [
    "## 使用matplotlib进行便捷的数据可视化\n",
    "- numpy, scipy, matplotlib 作为科学计算和数据可视化的套件"
   ]
  },
  {
   "cell_type": "markdown",
   "metadata": {},
   "source": [
    "- 但是当使用大量的数据点时性能就出现了问题"
   ]
  },
  {
   "cell_type": "markdown",
   "metadata": {},
   "source": [
    "- 在进行三维数据绘制和显示的时候更会出现明显的卡顿\n",
    "\n",
    "归结原因主要是因为matplotlib定位为高质量绘图, 并非高性能, 其采用CPU计算和绘制图形"
   ]
  },
  {
   "cell_type": "markdown",
   "metadata": {},
   "source": [
    "## 使用GPU为可视化加速\n",
    "![Logo](opengllogo.png)\n",
    "GPU是专门为了图形显示为设计的处理器, 使用GPU可以运行大型3D游戏, 显示复杂而绚丽的光影特效等任务. "
   ]
  },
  {
   "cell_type": "code",
   "execution_count": 2,
   "metadata": {},
   "outputs": [],
   "source": [
    "!python3 atom.py  # 例子"
   ]
  },
  {
   "cell_type": "code",
   "execution_count": 15,
   "metadata": {},
   "outputs": [
    {
     "name": "stdout",
     "output_type": "stream",
     "text": [
      "/usr/local/lib/python3.6/dist-packages/vispy/visuals/isocurve.py:22: UserWarning: VisPy is not yet compatible with matplotlib 2.2+\r\n",
      "  warnings.warn(\"VisPy is not yet compatible with matplotlib 2.2+\")\r\n"
     ]
    }
   ],
   "source": [
    "!python3 dihedron_in_cube.py  # 例子"
   ]
  },
  {
   "cell_type": "markdown",
   "metadata": {},
   "source": [
    "### OpenGL: 作为GPU编程的API接口\n",
    "GPU虽然性能强大,但是想要使用却并不容易, 其中OpenGL就是一套图形API, 我们使用它进行复杂的3d图形编程, 虽然这并不是那么容易. \n",
    "\n",
    "### OpenGL: 如何让计算机显示图形\n",
    "OpenGL是如何让计算机显示一个图形到显示器上? 比如一个三角形?\n",
    "\n",
    "#### 显示应用窗口\n",
    "\n",
    "#### OpenGL中的可编程管线\n",
    "![pipeline](pipeline.png)\n",
    "\n",
    "我们需要做的, 就是在图中**蓝色**的部分**输入需要的数据信息**, 然后OpenGL就会帮我们把图形画好显示到屏幕上, 这一切都将在显卡中完成, 速度非常之快.\n",
    "需要输入的数据为:\n",
    "1. 数据点坐标\n",
    "```\n",
    "float vertices[] = {\n",
    "    -0.5f, -0.5f, 0.0f,\n",
    "     0.5f, -0.5f, 0.0f,\n",
    "     0.0f,  0.5f, 0.0f\n",
    "};\n",
    "```\n",
    "2. shader(着色器)代码\n",
    "    - 顶点着色器(Vertex Shader): 处理数据点在空间中的坐标\n",
    "    ```\n",
    "    #version 330 core\n",
    "    layout (location = 0) in vec3 aPos;\n",
    "    ...\n",
    "    uniform mat4 model;\n",
    "    uniform mat4 view;\n",
    "    uniform mat4 projection;\n",
    "\n",
    "    void main()\n",
    "    {\n",
    "        // 注意乘法要从右向左读\n",
    "        gl_Position = projection * view * model * vec4(aPos, 1.0);\n",
    "        ...\n",
    "    }\n",
    "    ```\n",
    "    - 片段着色器(Fragment Shader): 处理栅格化之后的每个小片的颜色\n",
    "    ```\n",
    "    #version 330 core\n",
    "    out vec4 FragColor;\n",
    "\n",
    "    void main()\n",
    "    {\n",
    "        FragColor = vec4(1.0f, 0.5f, 0.2f, 1.0f);\n",
    "    } \n",
    "    ```"
   ]
  },
  {
   "cell_type": "markdown",
   "metadata": {},
   "source": [
    "#### 坐标系统\n",
    "OpenGL希望在每次顶点着色器运行后，我们可见的所有顶点都为标准化设备坐标(Normalized Device Coordinate, NDC)。也就是说，每个顶点的x，y，z坐标都应该在-1.0到1.0之间，超出这个坐标范围的顶点都将不可见.\n",
    "\n",
    "所以我们需要将原始的坐标点进行变化.\n",
    "\n",
    "对于3D的向量, 要将其在三维空间中进行缩放, 旋转和平移的操作, 我们需要使用4X4的仿射矩阵. 人为地, 我们将3d数据的变换分为三步, 每一步对应一个仿射矩阵:\n",
    "![coord](coordinate_systems.png)\n",
    "其中:\n",
    "- model: 将局部坐标移至世界坐标\n",
    "\n",
    "\n",
    "- view:  将世界坐标转化为观察者的坐标(摄像机)\n",
    "\n",
    "\n",
    "- projection: 将3d世界投影到2d的屏幕上"
   ]
  },
  {
   "cell_type": "markdown",
   "metadata": {},
   "source": [
    "# 坐标变换\n",
    "按 transforms.pdf 讲解"
   ]
  },
  {
   "cell_type": "markdown",
   "metadata": {},
   "source": [
    "# Vispy: 绑定Python的OpenGL的高级接口"
   ]
  },
  {
   "cell_type": "markdown",
   "metadata": {},
   "source": [
    "## Vispy做了什么:\n",
    "\n",
    "- 将原本是用C/C++语言开发的OpenGL用Python包起来让我们可以方便的用Python开发高性能图形应用, (GLOO低级接口)\n",
    "- 提供了高级接口, 像使用matplotlib一样方便, (scene)"
   ]
  },
  {
   "cell_type": "markdown",
   "metadata": {},
   "source": [
    "## vispy画图的例子"
   ]
  },
  {
   "cell_type": "code",
   "execution_count": 1,
   "metadata": {},
   "outputs": [],
   "source": [
    "# 复杂的粒子效果\n",
    "!python3 atom.py"
   ]
  },
  {
   "cell_type": "code",
   "execution_count": 2,
   "metadata": {},
   "outputs": [
    {
     "name": "stdout",
     "output_type": "stream",
     "text": [
      "rain.py:98: FutureWarning: Passing (type, 1) or '1type' as a synonym of type is deprecated; in a future version of numpy, it will be understood as (type, (1,)) / '(1,)type'.\r\n",
      "  ('a_size',     np.float32, 1)])\r\n"
     ]
    }
   ],
   "source": [
    "# 丰富的交互和特效\n",
    "!python3 rain.py"
   ]
  },
  {
   "cell_type": "code",
   "execution_count": 3,
   "metadata": {},
   "outputs": [
    {
     "name": "stdout",
     "output_type": "stream",
     "text": [
      "molecular_viewer.py:141: FutureWarning: Passing (type, 1) or '1type' as a synonym of type is deprecated; in a future version of numpy, it will be understood as (type, (1,)) / '(1,)type'.\r\n",
      "  ('a_radius', np.float32, 1)])\r\n"
     ]
    }
   ],
   "source": [
    "# 大量分子显示\n",
    "!python3 molecular_viewer.py"
   ]
  },
  {
   "cell_type": "markdown",
   "metadata": {},
   "source": [
    "## 高级接口Scene画图"
   ]
  },
  {
   "cell_type": "markdown",
   "metadata": {},
   "source": [
    "- 使用高级接口的例子, Scene"
   ]
  },
  {
   "cell_type": "markdown",
   "metadata": {},
   "source": [
    "### 例子1\n",
    "x-z平面的项链，可以缩放、旋转"
   ]
  },
  {
   "cell_type": "code",
   "execution_count": 4,
   "metadata": {
    "scrolled": true
   },
   "outputs": [],
   "source": [
    "!python3 basic01.py"
   ]
  },
  {
   "cell_type": "code",
   "execution_count": 5,
   "metadata": {},
   "outputs": [],
   "source": [
    "# %load basic01.py\n",
    "# vispy==0.4.0dev\n",
    "\"\"\"\n",
    "基础例子\n",
    "\"\"\"\n",
    "import sys\n",
    "from vispy import scene, app\n",
    "import numpy as np\n",
    "\n",
    "# 数据生成\n",
    "N = 100\n",
    "theta = np.linspace(0, 2* np.pi, N)\n",
    "r = 1.0\n",
    "x = r* np.sin(theta)\n",
    "z = r* np.cos(theta)\n",
    "y = np.zeros(N)\n",
    "\n",
    "pos = np.array([x,y,z]).T\n",
    "\n",
    "\n",
    "# Vispy 程序骨架\n",
    "canvas = scene.SceneCanvas(title='basic01', keys='interactive', show=True)\n",
    "\n",
    "viewbox = canvas.central_widget.add_view()\n",
    "viewbox.camera = 'turntable'\n",
    "\n",
    "axis = scene.visuals.XYZAxis(parent=viewbox.scene)\n",
    "\n",
    "scatter = scene.visuals.Markers() #散点\n",
    "viewbox.add(scatter)\n",
    "scatter.set_data(pos)\n",
    "\n",
    "line1 = scene.visuals.Line() # 线\n",
    "viewbox.add(line1)\n",
    "line1.set_data(pos)\n",
    "\n",
    "if __name__ == '__main__' and sys.flags.interactive == 0:\n",
    "    app.run()\n"
   ]
  },
  {
   "cell_type": "code",
   "execution_count": null,
   "metadata": {},
   "outputs": [],
   "source": []
  },
  {
   "cell_type": "markdown",
   "metadata": {},
   "source": [
    "### 例子2"
   ]
  },
  {
   "cell_type": "code",
   "execution_count": 7,
   "metadata": {},
   "outputs": [],
   "source": [
    "!python3 line_plot3d.py"
   ]
  },
  {
   "cell_type": "code",
   "execution_count": 8,
   "metadata": {},
   "outputs": [],
   "source": [
    "# pyline: disable=no-member\n",
    "\"\"\" plot3d using existing visuals : LinePlotVisual \"\"\"\n",
    "\n",
    "import numpy as np\n",
    "import sys\n",
    "\n",
    "from vispy import app, visuals, scene\n",
    "\n",
    "# build visuals\n",
    "Plot3D = scene.visuals.create_visual_node(visuals.LinePlotVisual)\n",
    "\n",
    "# build canvas\n",
    "canvas = scene.SceneCanvas(keys='interactive', title='plot3d', show=True)\n",
    "\n",
    "# Add a ViewBox to let the user zoom/rotate\n",
    "view = canvas.central_widget.add_view()\n",
    "view.camera = 'turntable'\n",
    "view.camera.fov = 45\n",
    "view.camera.distance = 6\n",
    "\n",
    "# prepare data\n",
    "N = 60\n",
    "x = np.sin(np.linspace(-2, 2, N)*np.pi)\n",
    "y = np.cos(np.linspace(-2, 2, N)*np.pi)\n",
    "z = np.linspace(-2, 2, N)\n",
    "\n",
    "# plot\n",
    "pos = np.c_[x, y, z]\n",
    "Plot3D(pos, width=2.0, color='red',\n",
    "       edge_color='w', symbol='o', face_color=(0.2, 0.2, 1, 0.8),\n",
    "       parent=view.scene)\n",
    "\n",
    "\n",
    "if __name__ == '__main__':\n",
    "    if sys.flags.interactive != 1:\n",
    "        app.run()"
   ]
  },
  {
   "cell_type": "markdown",
   "metadata": {},
   "source": [
    "## 用GLoo低级接口画图"
   ]
  },
  {
   "cell_type": "markdown",
   "metadata": {
    "collapsed": true
   },
   "source": [
    "- 一个使用GLoo低级接口的例子, 旋转的立方体"
   ]
  },
  {
   "cell_type": "code",
   "execution_count": 4,
   "metadata": {},
   "outputs": [],
   "source": [
    "# 旋转的立方体\n",
    "!python3 rotate_cube.py"
   ]
  },
  {
   "cell_type": "code",
   "execution_count": 10,
   "metadata": {},
   "outputs": [],
   "source": [
    "# %load rotate_cube.py\n",
    "#!/usr/bin/env python\n",
    "# vispy: gallery 50\n",
    "\"\"\"\n",
    "This example shows how to display 3D objects.\n",
    "You should see a colored outlined spinning cube.\n",
    "\"\"\"\n",
    "\n",
    "import numpy as np\n",
    "from vispy import app, gloo\n",
    "from vispy.util.transforms import perspective, translate, rotate\n",
    "\n",
    "#### 着色器代码\n",
    "\n",
    "##### 顶点着色器\n",
    "vert = \"\"\"\n",
    "// Uniforms\n",
    "// ------------------------------------\n",
    "uniform   mat4 u_model;\n",
    "uniform   mat4 u_view;\n",
    "uniform   mat4 u_projection;\n",
    "uniform   vec4 u_color;\n",
    "\n",
    "// Attributes\n",
    "// ------------------------------------\n",
    "attribute vec3 a_position;\n",
    "attribute vec4 a_color;\n",
    "attribute vec3 a_normal;\n",
    "\n",
    "// Varying\n",
    "// ------------------------------------\n",
    "varying vec4 v_color;\n",
    "\n",
    "void main()\n",
    "{\n",
    "    v_color = a_color * u_color;\n",
    "    gl_Position = u_projection * u_view * u_model * vec4(a_position,1.0);\n",
    "}\n",
    "\"\"\"\n",
    "\n",
    "##### 片段着色器\n",
    "frag = \"\"\"\n",
    "// Varying\n",
    "// ------------------------------------\n",
    "varying vec4 v_color;\n",
    "\n",
    "void main()\n",
    "{\n",
    "    gl_FragColor = v_color;\n",
    "}\n",
    "\"\"\"\n",
    "\n",
    "\n",
    "# -----------------------------------------------------------------------------\n",
    "def cube():\n",
    "    \"\"\"\n",
    "    Build vertices for a colored cube.\n",
    "\n",
    "    V  is the vertices\n",
    "    I1 is the indices for a filled cube (use with GL_TRIANGLES)\n",
    "    I2 is the indices for an outline cube (use with GL_LINES)\n",
    "    \"\"\"\n",
    "    vtype = [('a_position', np.float32, 3),\n",
    "             ('a_normal', np.float32, 3),\n",
    "             ('a_color', np.float32, 4)]\n",
    "    # Vertices positions\n",
    "    v = [[1, 1, 1], [-1, 1, 1], [-1, -1, 1], [1, -1, 1],\n",
    "         [1, -1, -1], [1, 1, -1], [-1, 1, -1], [-1, -1, -1]]\n",
    "    # Face Normals\n",
    "    n = [[0, 0, 1], [1, 0, 0], [0, 1, 0],\n",
    "         [-1, 0, 1], [0, -1, 0], [0, 0, -1]]\n",
    "    # Vertice colors\n",
    "    c = [[0, 1, 1, 1], [0, 0, 1, 1], [0, 0, 0, 1], [0, 1, 0, 1],\n",
    "         [1, 1, 0, 1], [1, 1, 1, 1], [1, 0, 1, 1], [1, 0, 0, 1]]\n",
    "\n",
    "    V = np.array([(v[0], n[0], c[0]), (v[1], n[0], c[1]),\n",
    "                  (v[2], n[0], c[2]), (v[3], n[0], c[3]),\n",
    "                  (v[0], n[1], c[0]), (v[3], n[1], c[3]),\n",
    "                  (v[4], n[1], c[4]), (v[5], n[1], c[5]),\n",
    "                  (v[0], n[2], c[0]), (v[5], n[2], c[5]),\n",
    "                  (v[6], n[2], c[6]), (v[1], n[2], c[1]),\n",
    "                  (v[1], n[3], c[1]), (v[6], n[3], c[6]),\n",
    "                  (v[7], n[3], c[7]), (v[2], n[3], c[2]),\n",
    "                  (v[7], n[4], c[7]), (v[4], n[4], c[4]),\n",
    "                  (v[3], n[4], c[3]), (v[2], n[4], c[2]),\n",
    "                  (v[4], n[5], c[4]), (v[7], n[5], c[7]),\n",
    "                  (v[6], n[5], c[6]), (v[5], n[5], c[5])],\n",
    "                 dtype=vtype)\n",
    "    I1 = np.resize(np.array([0, 1, 2, 0, 2, 3], dtype=np.uint32), 6 * (2 * 3))\n",
    "    I1 += np.repeat(4 * np.arange(2 * 3, dtype=np.uint32), 6)\n",
    "\n",
    "    I2 = np.resize(\n",
    "        np.array([0, 1, 1, 2, 2, 3, 3, 0], dtype=np.uint32), 6 * (2 * 4))\n",
    "    I2 += np.repeat(4 * np.arange(6, dtype=np.uint32), 8)\n",
    "\n",
    "    return V, I1, I2\n",
    "\n",
    "\n",
    "# -----------------------------------------------------------------------------\n",
    "class Canvas(app.Canvas):\n",
    "\n",
    "    def __init__(self):\n",
    "        app.Canvas.__init__(self, keys='interactive', size=(800, 600))\n",
    "        \n",
    "        # 数据绑定\n",
    "        self.vertices, self.filled, self.outline = cube()\n",
    "        self.filled_buf = gloo.IndexBuffer(self.filled)\n",
    "        self.outline_buf = gloo.IndexBuffer(self.outline)\n",
    "        \n",
    "        # 着色器绑定\n",
    "        self.program = gloo.Program(vert, frag)\n",
    "        self.program.bind(gloo.VertexBuffer(self.vertices))\n",
    "        \n",
    "        # 变换矩阵的生成和绑定\n",
    "        self.view = translate((0, 0, -5))\n",
    "        self.model = np.eye(4, dtype=np.float32)\n",
    "\n",
    "        gloo.set_viewport(0, 0, self.physical_size[0], self.physical_size[1])\n",
    "        self.projection = perspective(45.0, self.size[0] /\n",
    "                                      float(self.size[1]), 2.0, 10.0)\n",
    "\n",
    "        self.program['u_projection'] = self.projection\n",
    "\n",
    "        self.program['u_model'] = self.model\n",
    "        self.program['u_view'] = self.view\n",
    "\n",
    "        self.theta = 0\n",
    "        self.phi = 0\n",
    "\n",
    "        gloo.set_clear_color('white')\n",
    "        gloo.set_state('opaque')\n",
    "        gloo.set_polygon_offset(1, 1)\n",
    "\n",
    "        self._timer = app.Timer('auto', connect=self.on_timer, start=True)\n",
    "\n",
    "        self.show()\n",
    "    \n",
    "    # 计时器函数回调, 让立方体动起来\n",
    "    # ---------------------------------\n",
    "    def on_timer(self, event):\n",
    "        self.theta += .5\n",
    "        self.phi += .5\n",
    "        self.model = np.dot(rotate(self.theta, (0, 1, 0)),\n",
    "                            rotate(self.phi, (0, 0, 1)))\n",
    "        self.program['u_model'] = self.model\n",
    "        self.update()\n",
    "\n",
    "    # ---------------------------------\n",
    "    def on_resize(self, event):\n",
    "        gloo.set_viewport(0, 0, event.physical_size[0], event.physical_size[1])\n",
    "        self.projection = perspective(45.0, event.size[0] /\n",
    "                                      float(event.size[1]), 2.0, 10.0)\n",
    "        self.program['u_projection'] = self.projection\n",
    "    \n",
    "    # 每一帧的绘制函数\n",
    "    # ---------------------------------\n",
    "    def on_draw(self, event):\n",
    "        gloo.clear()\n",
    "\n",
    "        # Filled cube\n",
    "\n",
    "        gloo.set_state(blend=False, depth_test=True, polygon_offset_fill=True)\n",
    "        self.program['u_color'] = 1, 1, 1, 1\n",
    "        self.program.draw('triangles', self.filled_buf)\n",
    "\n",
    "        # Outline\n",
    "        gloo.set_state(blend=True, depth_test=True, polygon_offset_fill=False)\n",
    "        gloo.set_depth_mask(False)\n",
    "        self.program['u_color'] = 0, 0, 0, 1\n",
    "        self.program.draw('lines', self.outline_buf)\n",
    "        gloo.set_depth_mask(True)\n",
    "\n",
    "\n",
    "# -----------------------------------------------------------------------------\n",
    "if __name__ == '__main__':\n",
    "    c = Canvas()\n",
    "    app.run()\n"
   ]
  },
  {
   "cell_type": "markdown",
   "metadata": {},
   "source": [
    "## 计时器与动画"
   ]
  },
  {
   "cell_type": "markdown",
   "metadata": {},
   "source": [
    "- 小练习: 螺旋线\n",
    "展示如何使用计时器(动画), 摄像机, 按键相应"
   ]
  },
  {
   "cell_type": "code",
   "execution_count": 6,
   "metadata": {},
   "outputs": [
    {
     "name": "stdout",
     "output_type": "stream",
     "text": [
      "/usr/local/lib/python3.6/dist-packages/vispy/visuals/isocurve.py:22: UserWarning: VisPy is not yet compatible with matplotlib 2.2+\r\n",
      "  warnings.warn(\"VisPy is not yet compatible with matplotlib 2.2+\")\r\n"
     ]
    }
   ],
   "source": [
    "!python3 ex1_start.py"
   ]
  },
  {
   "cell_type": "code",
   "execution_count": null,
   "metadata": {},
   "outputs": [],
   "source": [
    "# vispy==0.4.0dev\n",
    "\"\"\"\n",
    "基础例子\n",
    "\"\"\"\n",
    "import sys\n",
    "from vispy import scene, app\n",
    "import numpy as np\n",
    "\n",
    "# 数据生成\n",
    "N = 100\n",
    "theta = np.linspace(0, 6* np.pi, N)\n",
    "r = 0.5\n",
    "x = r* np.sin(theta)\n",
    "z = r* np.cos(theta)\n",
    "#y = np.zeros(N)\n",
    "y = np.linspace(0, 1, N)\n",
    "\n",
    "pos = np.array([x,y,z]).T\n",
    "\n",
    "\n",
    "# Vispy 程序骨架\n",
    "canvas = scene.SceneCanvas(title='basic01', keys='interactive', show=True)\n",
    "\n",
    "viewbox = canvas.central_widget.add_view()\n",
    "viewbox.camera = 'fly'\n",
    "\n",
    "axis = scene.visuals.XYZAxis(parent=viewbox.scene)\n",
    "\n",
    "scatter = scene.visuals.Markers() #散点\n",
    "viewbox.add(scatter)\n",
    "pos1 = np.array([pos[0]])\n",
    "scatter.set_data(pos1)\n",
    "\n",
    "#line1 = scene.visuals.Line() # 线\n",
    "# viewbox.add(line1)\n",
    "#line1.set_data(pos)\n",
    "\n",
    "\n",
    "line1 = scene.visuals.Line(pos=pos, parent=viewbox.scene) # 线\n",
    "\n",
    "count = 0\n",
    "def on_timer(event):\n",
    "    global count\n",
    "    count += 1\n",
    "    count = count % N \n",
    "    scatter.set_data(np.array([pos[count]]))\n",
    "    \n",
    "\n",
    "\n",
    "timer = app.Timer(connect=on_timer, start=True)\n",
    "#timer.connect(on_timer)\n",
    "#timer.start()\n",
    "\n",
    "Running = True\n",
    "@canvas.events.key_press.connect\n",
    "def on_key(event):\n",
    "    global Running\n",
    "    if event.key == 'Space':\n",
    "        if Running:\n",
    "            timer.stop()\n",
    "        else:\n",
    "            timer.start()\n",
    "        Running= not Running\n",
    "\n",
    "\n",
    "\n",
    "if __name__ == '__main__' and sys.flags.interactive == 0:\n",
    "    app.run()"
   ]
  },
  {
   "cell_type": "markdown",
   "metadata": {},
   "source": [
    "## 点线面体"
   ]
  },
  {
   "cell_type": "markdown",
   "metadata": {},
   "source": [
    "- 更多丰富的高级接口, 点线面体的显示"
   ]
  },
  {
   "cell_type": "code",
   "execution_count": 7,
   "metadata": {
    "scrolled": true
   },
   "outputs": [
    {
     "name": "stdout",
     "output_type": "stream",
     "text": [
      "/usr/local/lib/python3.6/dist-packages/vispy/visuals/isocurve.py:22: UserWarning: VisPy is not yet compatible with matplotlib 2.2+\r\n",
      "  warnings.warn(\"VisPy is not yet compatible with matplotlib 2.2+\")\r\n"
     ]
    }
   ],
   "source": [
    "!python3 dihedron_in_cube.py"
   ]
  },
  {
   "cell_type": "code",
   "execution_count": null,
   "metadata": {},
   "outputs": [],
   "source": [
    "import sys\n",
    "\n",
    "from vispy import scene\n",
    "from vispy.color import Color\n",
    "\n",
    "import numpy as np\n",
    "\n",
    "\n",
    "canvas = scene.SceneCanvas(keys='interactive', size=(800, 600), show=True)\n",
    "\n",
    "# Set up a viewbox to display the cube with interactive arcball\n",
    "view = canvas.central_widget.add_view()\n",
    "#view.bgcolor = '#efefef'\n",
    "#view.bgcolor = '#ffffff'\n",
    "view.camera = 'turntable' # 摄像机\n",
    "view.padding = 5\n",
    "\n",
    "#color = Color(\"#3f51b5\")\n",
    "color = Color(\"#20af20\")\n",
    "\n",
    "nv = 24\n",
    "vcolor = np.ones((nv, 4), dtype=np.float32)\n",
    "rng = np.random.RandomState(1)\n",
    "vcolor[:, 0] = np.linspace(1, 0, nv)\n",
    "vcolor[:, 1] = rng.randn(nv)\n",
    "vcolor[:, 2] = np.linspace(0, 1, nv)\n",
    "vcolor[:, 3] = 0.8\n",
    "\n",
    "cube = scene.visuals.Cube(size=1, vertex_colors=vcolor, edge_color=\"black\", parent=view.scene) # 立方体\n",
    "#cube = scene.visuals.Cube(size=1, color=color, edge_color=\"black\", parent=view.scene)\n",
    "cube.mesh.set_gl_state('additive', blend=True, depth_test=False)\n",
    "\n",
    "\n",
    "pos = np.array([[1,-1,1],[-1,1,1],\n",
    "                [1,1,-1],[1,-1,1] ], \n",
    "        dtype=np.float32) \n",
    "line = scene.visuals.Line(pos=pos, color='brown', parent=view.scene, width=2.0) # 线1\n",
    "\n",
    "pos2 = np.array([[1,-1,-1],[-1,-1,1],\n",
    "                [-1,1,-1],[1,-1,-1] ], \n",
    "        dtype=np.float32) \n",
    "line2 = scene.visuals.Line(pos=pos2, color='pink', parent=view.scene, width=2.0) # 线2\n",
    "\n",
    "def get_one_third(a,b):\n",
    "    return a+(b-a)/3.\n",
    "\n",
    "pos3 = np.array([get_one_third(pos[0], pos[1]),\n",
    "                 get_one_third(pos[1], pos[2]),\n",
    "                 get_one_third(pos[2], pos[3]), ], \n",
    "        dtype=np.float32) \n",
    "\n",
    "pos4 = np.array([get_one_third(pos2[1], pos2[0]),\n",
    "                 get_one_third(pos2[2], pos2[1]),\n",
    "                 get_one_third(pos2[3], pos2[2]), ], \n",
    "        dtype=np.float32) \n",
    "face2 = scene.visuals.Mesh(vertices=pos4, color='pink', parent=view.scene) # 面2\n",
    "\n",
    "#face1 = scene.visuals.Mesh(vertices=pos3, color='brown', parent=view.scene)\n",
    "face1 = scene.visuals.Mesh(vertices=pos3, color='#40A0F080', parent=view.scene) # 面1\n",
    "face1.set_gl_state('additive', blend=True, depth_test=False)\n",
    "\n",
    "pos_middle = np.array([[1,-1,0],[0,-1,1],\n",
    "                [-1,0,1],[-1,1,0],\n",
    "                [0,1,-1], [1,0,-1],\n",
    "                [1,-1,0] ], \n",
    "        dtype=np.float32) \n",
    "#line_middle = scene.visuals.Line(pos=pos_middle, color='blue', parent=view.scene)\n",
    "\n",
    "pos_between1 = np.array([pos3[0], pos4[0]])\n",
    "l1 = scene.visuals.Tube(pos_between1, color=['red', 'green', 'yellow'], shading='smooth', tube_points=8, radius=0.02, parent=view.scene)\n",
    "\n",
    "pos_between2 = np.array([pos3[1], pos4[1]])\n",
    "l2 = scene.visuals.Tube(pos_between2, color=['red', 'green', 'yellow'], shading='smooth', tube_points=8, radius=0.02, parent=view.scene)\n",
    "\n",
    "pos_between3 = np.array([pos3[2], pos4[2]])\n",
    "l3 = scene.visuals.Tube(pos_between3, color=['red', 'green', 'yellow'], shading='smooth', tube_points=8, radius=0.02, parent=view.scene) # 管\n",
    "\n",
    "#axis = scene.visuals.XYZAxis(width=2.0, parent=view.scene)\n",
    "#axis.set_data(pos=axis.pos*3)\n",
    "\n",
    "if __name__ == '__main__' and sys.flags.interactive == 0:\n",
    "    canvas.app.run()"
   ]
  },
  {
   "cell_type": "markdown",
   "metadata": {},
   "source": [
    "## 也可以画2D！"
   ]
  },
  {
   "cell_type": "code",
   "execution_count": 8,
   "metadata": {},
   "outputs": [
    {
     "name": "stdout",
     "output_type": "stream",
     "text": [
      "/usr/local/lib/python3.6/dist-packages/vispy/visuals/isocurve.py:22: UserWarning: VisPy is not yet compatible with matplotlib 2.2+\r\n",
      "  warnings.warn(\"VisPy is not yet compatible with matplotlib 2.2+\")\r\n"
     ]
    }
   ],
   "source": [
    "!python3 simple_line.py"
   ]
  },
  {
   "cell_type": "code",
   "execution_count": null,
   "metadata": {},
   "outputs": [],
   "source": [
    "import numpy as np\n",
    "from vispy import plot as vp\n",
    "\n",
    "t = np.linspace(0,2,201)\n",
    "x = np.cos(2 * np.pi * t)\n",
    "y = (t-1)**2\n",
    "\n",
    "fig = vp.Fig(size=(600, 800), show=False)\n",
    "fig[0,0].plot(np.array((t,x)).T, marker_size=0)\n",
    "fig[1,0].plot(np.array((t,y)).T, marker_size=0)\n",
    "fig.show(run=True)"
   ]
  },
  {
   "cell_type": "code",
   "execution_count": 9,
   "metadata": {},
   "outputs": [
    {
     "name": "stdout",
     "output_type": "stream",
     "text": [
      "/usr/local/lib/python3.6/dist-packages/vispy/visuals/isocurve.py:22: UserWarning: VisPy is not yet compatible with matplotlib 2.2+\r\n",
      "  warnings.warn(\"VisPy is not yet compatible with matplotlib 2.2+\")\r\n"
     ]
    }
   ],
   "source": [
    "!python3 plot.py"
   ]
  },
  {
   "cell_type": "code",
   "execution_count": null,
   "metadata": {},
   "outputs": [],
   "source": [
    "import numpy as np\n",
    "\n",
    "from vispy import plot as vp\n",
    "\n",
    "fig = vp.Fig(size=(600, 500), show=False)\n",
    "\n",
    "# Plot the target square wave shape\n",
    "x = np.linspace(0, 10, 1000)\n",
    "y = np.zeros(1000)\n",
    "y[1:500] = 1\n",
    "y[500:-1] = -1\n",
    "line = fig[0, 0].plot((x, y), width=3, color='k',\n",
    "                      title='Square Wave Fourier Expansion', xlabel='x',\n",
    "                      ylabel='4/π Σ[ 1/n sin(nπx/L) | n=1,3,5,...]')\n",
    "\n",
    "y = np.zeros(1000)\n",
    "L = 5\n",
    "colors = [(0.8, 0, 0, 1),\n",
    "          (0.8, 0, 0.8, 1),\n",
    "          (0, 0, 1.0, 1),\n",
    "          (0, 0.7, 0, 1), ]\n",
    "plot_nvals = [1, 3, 7, 31]\n",
    "for i in range(16):\n",
    "    n = i * 2 + 1\n",
    "    y += (4. / np.pi) * (1. / n) * np.sin(n * np.pi * x / L)\n",
    "    if n in plot_nvals:\n",
    "        tmp_line = fig[0, 0].plot((x, y), color=colors[plot_nvals.index(n)],\n",
    "                                  width=2)\n",
    "        tmp_line.update_gl_state(depth_test=False)\n",
    "\n",
    "labelgrid = fig[0, 0].view.add_grid(margin=10)\n",
    "\n",
    "box = vp.Widget(bgcolor=(1, 1, 1, 0.6), border_color='k')\n",
    "box_widget = labelgrid.add_widget(box, row=0, col=1)\n",
    "box_widget.width_max = 90\n",
    "box_widget.height_max = 120\n",
    "\n",
    "bottom_spacer = vp.Widget()\n",
    "labelgrid.add_widget(bottom_spacer, row=1, col=0)\n",
    "\n",
    "labels = [vp.Label('n=%d' % plot_nvals[i], color=colors[i], anchor_x='left')\n",
    "          for i in range(len(plot_nvals))]\n",
    "boxgrid = box.add_grid()\n",
    "for i, label in enumerate(labels):\n",
    "    label_widget = boxgrid.add_widget(label, row=i, col=0)\n",
    "\n",
    "\n",
    "grid = vp.visuals.GridLines(color=(0, 0, 0, 0.5))\n",
    "grid.set_gl_state('translucent')\n",
    "fig[0, 0].view.add(grid)\n",
    "\n",
    "\n",
    "if __name__ == '__main__':\n",
    "    fig.show(run=True)"
   ]
  },
  {
   "cell_type": "markdown",
   "metadata": {},
   "source": [
    "# 要求掌握的例子"
   ]
  },
  {
   "cell_type": "markdown",
   "metadata": {},
   "source": [
    "## 画线1\n",
    "simple_line.py"
   ]
  },
  {
   "cell_type": "code",
   "execution_count": 10,
   "metadata": {},
   "outputs": [
    {
     "name": "stdout",
     "output_type": "stream",
     "text": [
      "/usr/local/lib/python3.6/dist-packages/vispy/visuals/isocurve.py:22: UserWarning: VisPy is not yet compatible with matplotlib 2.2+\r\n",
      "  warnings.warn(\"VisPy is not yet compatible with matplotlib 2.2+\")\r\n"
     ]
    }
   ],
   "source": [
    "!python3 simple_line.py"
   ]
  },
  {
   "cell_type": "markdown",
   "metadata": {},
   "source": [
    "## 画线2"
   ]
  },
  {
   "cell_type": "code",
   "execution_count": 11,
   "metadata": {},
   "outputs": [
    {
     "name": "stdout",
     "output_type": "stream",
     "text": [
      "/usr/local/lib/python3.6/dist-packages/vispy/visuals/isocurve.py:22: UserWarning: VisPy is not yet compatible with matplotlib 2.2+\r\n",
      "  warnings.warn(\"VisPy is not yet compatible with matplotlib 2.2+\")\r\n"
     ]
    }
   ],
   "source": [
    "!python3 basic01.py"
   ]
  },
  {
   "cell_type": "code",
   "execution_count": 12,
   "metadata": {},
   "outputs": [
    {
     "name": "stdout",
     "output_type": "stream",
     "text": [
      "/usr/local/lib/python3.6/dist-packages/vispy/visuals/isocurve.py:22: UserWarning: VisPy is not yet compatible with matplotlib 2.2+\r\n",
      "  warnings.warn(\"VisPy is not yet compatible with matplotlib 2.2+\")\r\n"
     ]
    }
   ],
   "source": [
    "!python3 ex1_final.py"
   ]
  },
  {
   "cell_type": "markdown",
   "metadata": {},
   "source": [
    "## 画线3"
   ]
  },
  {
   "cell_type": "code",
   "execution_count": 13,
   "metadata": {},
   "outputs": [
    {
     "name": "stdout",
     "output_type": "stream",
     "text": [
      "/usr/local/lib/python3.6/dist-packages/vispy/visuals/isocurve.py:22: UserWarning: VisPy is not yet compatible with matplotlib 2.2+\r\n",
      "  warnings.warn(\"VisPy is not yet compatible with matplotlib 2.2+\")\r\n"
     ]
    }
   ],
   "source": [
    "!python3 line_plot3d.py"
   ]
  },
  {
   "cell_type": "markdown",
   "metadata": {},
   "source": [
    "# 练习题"
   ]
  },
  {
   "cell_type": "markdown",
   "metadata": {},
   "source": [
    "## 画出一个向右行进的正弦波"
   ]
  },
  {
   "cell_type": "markdown",
   "metadata": {},
   "source": [
    "## 画出一个旋转的螺旋线"
   ]
  }
 ],
 "metadata": {
  "kernelspec": {
   "display_name": "Python 3 (ipykernel)",
   "language": "python",
   "name": "python3"
  },
  "language_info": {
   "codemirror_mode": {
    "name": "ipython",
    "version": 3
   },
   "file_extension": ".py",
   "mimetype": "text/x-python",
   "name": "python",
   "nbconvert_exporter": "python",
   "pygments_lexer": "ipython3",
   "version": "3.7.3"
  },
  "toc": {
   "base_numbering": 1,
   "nav_menu": {},
   "number_sections": true,
   "sideBar": true,
   "skip_h1_title": false,
   "title_cell": "Table of Contents",
   "title_sidebar": "Contents",
   "toc_cell": false,
   "toc_position": {
    "height": "calc(100% - 180px)",
    "left": "10px",
    "top": "150px",
    "width": "248.8px"
   },
   "toc_section_display": true,
   "toc_window_display": false
  }
 },
 "nbformat": 4,
 "nbformat_minor": 2
}
