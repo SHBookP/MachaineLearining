{
 "cells": [
  {
   "cell_type": "markdown",
   "metadata": {},
   "source": [
    "# 1124作业\n",
    "> 作业：从课程资源下载数据集\"2021.11.24 datasets.7z\"，读取'../datasets/Muller_p122_circle.csv'里的点，用2/3的样本点作为训练集，1/3为测试集，\n",
    "> - 画出训练集$k=3$的决策边界\n",
    "> - 求出测试集合的正确检测率"
   ]
  },
  {
   "cell_type": "markdown",
   "metadata": {},
   "source": [
    "## 库、函数准备"
   ]
  },
  {
   "cell_type": "code",
   "execution_count": 114,
   "metadata": {},
   "outputs": [],
   "source": [
    "import pandas as pd\n",
    "import matplotlib.pyplot as plt\n",
    "import numpy as np\n",
    "import itertools\n",
    "\n",
    "from numpy.linalg import norm\n",
    "\n",
    "def kNN(train,test,k):\n",
    "    num=0\n",
    "    # 需要加个权重，即以[xmax-xin,ymax-ymin,...]稀释。\n",
    "    adjustvector=np.max(train[:,[0,1]],axis=0)-np.min(train[:,[0,1]],axis=0)\n",
    "    dis=np.fromiter(map(lambda i:norm((train[i,[0,1]]-test)/adjustvector),range(len(train))),dtype=np.float32)\n",
    "    st=np.argsort(dis)\n",
    "    for j in range(k):\n",
    "        num=num+train[st[j],2]\n",
    "    if num<k/2:\n",
    "        return 0\n",
    "    return 1"
   ]
  },
  {
   "cell_type": "markdown",
   "metadata": {},
   "source": [
    "## 数据准备"
   ]
  },
  {
   "cell_type": "code",
   "execution_count": 107,
   "metadata": {},
   "outputs": [],
   "source": [
    "k=3\n",
    "\n",
    "df=pd.read_csv('../datasets/Muller_p122_circle.csv')\n",
    "tr=df.to_numpy()\n",
    "\n",
    "trnnum=len(tr)*2//3\n",
    "tstnum=len(tr)-trnnum\n",
    "trn=tr[0:trnnum]\n",
    "trndf=df[0:trnnum]\n",
    "\n",
    "xx=np.linspace(-1.5,1.5,35)\n",
    "yy=np.linspace(-1.5,1.2,25)\n",
    "\n",
    "n=np.asarray(list(itertools.product(xx,yy)))\n",
    "\n",
    "one=trndf.loc[trndf.cls==1]\n",
    "zero=trndf.loc[trndf.cls==0]\n",
    "One=df.loc[df.cls==1]\n",
    "Zero=df.loc[df.cls==0]"
   ]
  },
  {
   "cell_type": "markdown",
   "metadata": {},
   "source": [
    "## 第一小题，作出边界"
   ]
  },
  {
   "cell_type": "code",
   "execution_count": 108,
   "metadata": {},
   "outputs": [
    {
     "data": {
      "image/png": "[encoded data removed]",
      "text/plain": [
       "<Figure size 432x288 with 1 Axes>"
      ]
     },
     "metadata": {
      "needs_background": "light"
     },
     "output_type": "display_data"
    }
   ],
   "source": [
    "plt.xlim(-1.5,1.5)\n",
    "plt.ylim(-1.5,1.2)\n",
    "# 0 for green, 1 for red\n",
    "for i in range(len(n)):\n",
    "    if kNN(trn,n[i],k)==0:\n",
    "        plt.scatter(n[i,0],n[i,1],marker='s',c='g',alpha=.2,s=80)\n",
    "    else:\n",
    "        plt.scatter(n[i,0],n[i,1],marker='s',c='r',alpha=.2,s=80)\n",
    "\n",
    "plt.scatter(one.x,one.y,marker='^',c='r')\n",
    "plt.scatter(zero.x,zero.y,marker='o',c='g')\n",
    "# plt.axis('equal')\n",
    "plt.show()"
   ]
  },
  {
   "cell_type": "markdown",
   "metadata": {},
   "source": [
    "## 第二小题，验证并计算准确率"
   ]
  },
  {
   "cell_type": "code",
   "execution_count": 109,
   "metadata": {},
   "outputs": [
    {
     "name": "stdout",
     "output_type": "stream",
     "text": [
      "    predict  real\n",
      "0         1     0\n",
      "1         1     1\n",
      "2         1     0\n",
      "3         1     1\n",
      "4         1     1\n",
      "5         0     0\n",
      "6         1     1\n",
      "7         1     1\n",
      "8         0     0\n",
      "9         1     1\n",
      "10        1     0\n",
      "11        1     1\n",
      "12        1     1\n",
      "13        1     0\n",
      "14        0     0\n",
      "15        0     0\n",
      "16        1     0\n",
      "17        0     0\n",
      "18        0     0\n",
      "19        1     1\n",
      "20        1     0\n",
      "21        1     0\n",
      "22        1     1\n",
      "23        1     1\n",
      "24        0     0\n",
      "25        1     0\n",
      "26        1     1\n",
      "27        1     1\n",
      "28        0     0\n",
      "29        1     1\n",
      "30        1     0\n",
      "31        0     1\n",
      "32        1     0\n",
      "33        0     0\n",
      "准确率是67.6471%\n"
     ]
    }
   ],
   "source": [
    "rlt=np.array([])\n",
    "for u in range(tstnum):\n",
    "    rlt=np.append(rlt,[kNN(trn,tr[trnnum+u,[0,1]],k)])\n",
    "\n",
    "correct_percentage=1-np.count_nonzero(rlt-tr[trnnum:,2])/tstnum\n",
    "\n",
    "d = {'predict':rlt.astype(int),'real':tr[trnnum:,2].astype(int)}\n",
    "print(pd.DataFrame(data=d))\n",
    "\n",
    "print(\"准确率是{:.4%}\".format(correct_percentage))"
   ]
  },
  {
   "cell_type": "markdown",
   "metadata": {},
   "source": [
    "## 可视化\n",
    "三角形：为1的；圆形：为0的\n",
    "\n",
    "白&蓝色：测试集；红&绿色：训练集"
   ]
  },
  {
   "cell_type": "code",
   "execution_count": 111,
   "metadata": {},
   "outputs": [
    {
     "data": {
      "image/png": "[encoded data removed]",
      "text/plain": [
       "<Figure size 432x288 with 1 Axes>"
      ]
     },
     "metadata": {
      "needs_background": "light"
     },
     "output_type": "display_data"
    }
   ],
   "source": [
    "plt.xlim(-1.5,1.5)\n",
    "plt.ylim(-1.5,1.2)\n",
    "# 0 for green, 1 for red\n",
    "for i in range(len(n)):\n",
    "    if kNN(trn,n[i],k)==0:\n",
    "        plt.scatter(n[i,0],n[i,1],marker='s',c='g',alpha=.2,s=80)\n",
    "    else:\n",
    "        plt.scatter(n[i,0],n[i,1],marker='s',c='r',alpha=.2,s=80)\n",
    "\n",
    "\n",
    "plt.scatter(One.x,One.y,marker='^',c='w')\n",
    "plt.scatter(Zero.x,Zero.y,marker='o',c='b')\n",
    "\n",
    "plt.scatter(one.x,one.y,marker='^',c='r')\n",
    "plt.scatter(zero.x,zero.y,marker='o',c='g')\n",
    "# plt.axis('equal')\n",
    "plt.show()"
   ]
  },
  {
   "cell_type": "code",
   "execution_count": null,
   "metadata": {},
   "outputs": [],
   "source": []
  }
 ],
 "metadata": {
  "interpreter": {
   "hash": "474df3d2afca2021df4a34dc6b6349abbee314f1889385c711c5dd7210ac9d2f"
  },
  "kernelspec": {
   "display_name": "Python 3.9.5 64-bit",
   "language": "python",
   "name": "python3"
  },
  "language_info": {
   "codemirror_mode": {
    "name": "ipython",
    "version": 3
   },
   "file_extension": ".py",
   "mimetype": "text/x-python",
   "name": "python",
   "nbconvert_exporter": "python",
   "pygments_lexer": "ipython3",
   "version": "3.9.5"
  },
  "orig_nbformat": 4
 },
 "nbformat": 4,
 "nbformat_minor": 2
}
