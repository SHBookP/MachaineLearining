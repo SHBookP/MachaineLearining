{
 "cells": [
  {
   "cell_type": "code",
   "execution_count": 16,
   "metadata": {},
   "outputs": [
    {
     "data": {
      "image/png": "[encoded data removed]",
      "text/plain": [
       "<Figure size 432x288 with 1 Axes>"
      ]
     },
     "metadata": {
      "needs_background": "light"
     },
     "output_type": "display_data"
    }
   ],
   "source": [
    "# Code by jollysoul\n",
    " \n",
    "import random\n",
    "import numpy as np\n",
    "from matplotlib import pyplot as plt\n",
    "import matplotlib.cm as cm\n",
    " \n",
    "num_rows = int(input(\"Rows: \")) # number of rows\n",
    "num_cols = int(input(\"Columns: \")) # number of columns\n",
    " \n",
    "# The array M is going to hold the array information for each cell.\n",
    "# The first four coordinates tell if walls exist on those sides \n",
    "# and the fifth \n",
    "# indicates if the cell has been visited in the search.\n",
    "# M(LEFT, UP, RIGHT, DOWN, CHECK_IF_VISITED)\n",
    "M = np.zeros((num_rows,num_cols,5), dtype=np.uint8)\n",
    " \n",
    "# The array image is going to be the output image to display\n",
    "image = np.zeros((num_rows*10,num_cols*10), dtype=np.uint8)\n",
    " \n",
    "# Set starting row and column\n",
    "r = 0\n",
    "c = 0\n",
    "history = [(r,c)] # The history is the stack of visited locations\n",
    " \n",
    "# Trace a path though the cells of the maze and open walls along the path.\n",
    "# We do this with a while loop, repeating the loop until there is no history, \n",
    "# which would mean we backtracked to the initial start.\n",
    "while history: \n",
    "    M[r,c,4] = 1 # designate this location as visited\n",
    "    # check if the adjacent cells are valid for moving to\n",
    "    check = []\n",
    "    if c > 0 and M[r,c-1,4] == 0:\n",
    "        check.append('L')  \n",
    "    if r > 0 and M[r-1,c,4] == 0:\n",
    "        check.append('U')\n",
    "    if c < num_cols-1 and M[r,c+1,4] == 0:\n",
    "        check.append('R')\n",
    "    if r < num_rows-1 and M[r+1,c,4] == 0:\n",
    "        check.append('D')    \n",
    "    \n",
    "    if len(check): # If there is a valid cell to move to.\n",
    "        # Mark the walls between cells as open if we move\n",
    "        history.append([r,c])\n",
    "        move_direction = random.choice(check)\n",
    "        if move_direction == 'L':\n",
    "            M[r,c,0] = 1\n",
    "            c = c-1\n",
    "            M[r,c,2] = 1\n",
    "        if move_direction == 'U':\n",
    "            M[r,c,1] = 1\n",
    "            r = r-1\n",
    "            M[r,c,3] = 1\n",
    "        if move_direction == 'R':\n",
    "            M[r,c,2] = 1\n",
    "            c = c+1\n",
    "            M[r,c,0] = 1\n",
    "        if move_direction == 'D':\n",
    "            M[r,c,3] = 1\n",
    "            r = r+1\n",
    "            M[r,c,1] = 1\n",
    "    else: # If there are no valid cells to move to.\n",
    "    # retrace one step back in history if no move is possible\n",
    "        r,c = history.pop()\n",
    "    \n",
    "         \n",
    "# Open the walls at the start and finish\n",
    "M[0,0,0] = 1\n",
    "M[num_rows-1,num_cols-1,2] = 1\n",
    "    \n",
    "# Generate the image for display\n",
    "for row in range(0,num_rows):\n",
    "    for col in range(0,num_cols):\n",
    "        cell_data = M[row,col]\n",
    "        for i in range(10*row+2,10*row+8):\n",
    "            image[i,range(10*col+2,10*col+8)] = 255\n",
    "        if cell_data[0] == 1: \n",
    "            image[range(10*row+2,10*row+8),10*col] = 255\n",
    "            image[range(10*row+2,10*row+8),10*col+1] = 255\n",
    "        if cell_data[1] == 1: \n",
    "            image[10*row,range(10*col+2,10*col+8)] = 255\n",
    "            image[10*row+1,range(10*col+2,10*col+8)] = 255\n",
    "        if cell_data[2] == 1: \n",
    "            image[range(10*row+2,10*row+8),10*col+9] = 255\n",
    "            image[range(10*row+2,10*row+8),10*col+8] = 255\n",
    "        if cell_data[3] == 1: \n",
    "            image[10*row+9,range(10*col+2,10*col+8)] = 255\n",
    "            image[10*row+8,range(10*col+2,10*col+8)] = 255\n",
    "        \n",
    " \n",
    "# Display the image\n",
    "plt.imshow(image, cmap = cm.Greys_r, interpolation='none')\n",
    "plt.show()"
   ]
  }
 ],
 "metadata": {
  "interpreter": {
   "hash": "474df3d2afca2021df4a34dc6b6349abbee314f1889385c711c5dd7210ac9d2f"
  },
  "kernelspec": {
   "display_name": "Python 3.9.5 64-bit",
   "name": "python3"
  },
  "language_info": {
   "codemirror_mode": {
    "name": "ipython",
    "version": 3
   },
   "file_extension": ".py",
   "mimetype": "text/x-python",
   "name": "python",
   "nbconvert_exporter": "python",
   "pygments_lexer": "ipython3",
   "version": "3.9.5"
  },
  "orig_nbformat": 4
 },
 "nbformat": 4,
 "nbformat_minor": 2
}
