{
 "cells": [
  {
   "cell_type": "markdown",
   "metadata": {},
   "source": [
    "# 决策树\n",
    "## 导入数据\n",
    "重定义$\\ln$函数，否则它无法计算\n",
    "$$\n",
    "\\lim_{x\\rightarrow 0} x\\ln x=0\n",
    "$$\n"
   ]
  },
  {
   "cell_type": "code",
   "execution_count": 223,
   "metadata": {},
   "outputs": [
    {
     "data": {
      "text/html": [
       "<div>\n",
       "<style scoped>\n",
       "    .dataframe tbody tr th:only-of-type {\n",
       "        vertical-align: middle;\n",
       "    }\n",
       "\n",
       "    .dataframe tbody tr th {\n",
       "        vertical-align: top;\n",
       "    }\n",
       "\n",
       "    .dataframe thead th {\n",
       "        text-align: right;\n",
       "    }\n",
       "</style>\n",
       "<table border=\"1\" class=\"dataframe\">\n",
       "  <thead>\n",
       "    <tr style=\"text-align: right;\">\n",
       "      <th></th>\n",
       "      <th>用户ID</th>\n",
       "      <th>年龄</th>\n",
       "      <th>性别</th>\n",
       "      <th>收入</th>\n",
       "      <th>婚姻状况</th>\n",
       "      <th>是否买房</th>\n",
       "    </tr>\n",
       "  </thead>\n",
       "  <tbody>\n",
       "    <tr>\n",
       "      <th>0</th>\n",
       "      <td>1</td>\n",
       "      <td>27</td>\n",
       "      <td>True</td>\n",
       "      <td>150000</td>\n",
       "      <td>False</td>\n",
       "      <td>False</td>\n",
       "    </tr>\n",
       "    <tr>\n",
       "      <th>1</th>\n",
       "      <td>2</td>\n",
       "      <td>47</td>\n",
       "      <td>False</td>\n",
       "      <td>300000</td>\n",
       "      <td>True</td>\n",
       "      <td>True</td>\n",
       "    </tr>\n",
       "    <tr>\n",
       "      <th>2</th>\n",
       "      <td>3</td>\n",
       "      <td>32</td>\n",
       "      <td>True</td>\n",
       "      <td>120000</td>\n",
       "      <td>False</td>\n",
       "      <td>False</td>\n",
       "    </tr>\n",
       "    <tr>\n",
       "      <th>3</th>\n",
       "      <td>4</td>\n",
       "      <td>24</td>\n",
       "      <td>True</td>\n",
       "      <td>450000</td>\n",
       "      <td>False</td>\n",
       "      <td>True</td>\n",
       "    </tr>\n",
       "    <tr>\n",
       "      <th>4</th>\n",
       "      <td>5</td>\n",
       "      <td>45</td>\n",
       "      <td>True</td>\n",
       "      <td>300000</td>\n",
       "      <td>True</td>\n",
       "      <td>False</td>\n",
       "    </tr>\n",
       "    <tr>\n",
       "      <th>5</th>\n",
       "      <td>6</td>\n",
       "      <td>56</td>\n",
       "      <td>True</td>\n",
       "      <td>320000</td>\n",
       "      <td>True</td>\n",
       "      <td>True</td>\n",
       "    </tr>\n",
       "    <tr>\n",
       "      <th>6</th>\n",
       "      <td>7</td>\n",
       "      <td>31</td>\n",
       "      <td>True</td>\n",
       "      <td>150000</td>\n",
       "      <td>False</td>\n",
       "      <td>False</td>\n",
       "    </tr>\n",
       "    <tr>\n",
       "      <th>7</th>\n",
       "      <td>8</td>\n",
       "      <td>23</td>\n",
       "      <td>False</td>\n",
       "      <td>300000</td>\n",
       "      <td>True</td>\n",
       "      <td>False</td>\n",
       "    </tr>\n",
       "  </tbody>\n",
       "</table>\n",
       "</div>"
      ],
      "text/plain": [
       "   用户ID  年龄     性别      收入   婚姻状况   是否买房\n",
       "0     1  27   True  150000  False  False\n",
       "1     2  47  False  300000   True   True\n",
       "2     3  32   True  120000  False  False\n",
       "3     4  24   True  450000  False   True\n",
       "4     5  45   True  300000   True  False\n",
       "5     6  56   True  320000   True   True\n",
       "6     7  31   True  150000  False  False\n",
       "7     8  23  False  300000   True  False"
      ]
     },
     "execution_count": 223,
     "metadata": {},
     "output_type": "execute_result"
    }
   ],
   "source": [
    "import pandas as pd\n",
    "import numpy as np\n",
    "\n",
    "def Log2(x):\n",
    "    if not isinstance(x,np.ndarray):\n",
    "        if x==0:\n",
    "            return 0.0\n",
    "        return np.log2(x)\n",
    "    return np.array(list(map(Log2,x)))\n",
    "dt=pd.DataFrame(data={\n",
    "    '用户ID':list(range(1,1+8)),\n",
    "    '年龄':[27,47,32,24,45,56,31,23],\n",
    "    '性别':[True,False,True,True,True,True,True,False],\n",
    "    '收入':[150000,300000,120000,450000,300000,320000,150000,300000],\n",
    "    '婚姻状况':[False,True,False,False,True,True,False,True],\n",
    "    '是否买房':[False,True,False,True,False,True,False,False]\n",
    "})\n",
    "dt"
   ]
  },
  {
   "cell_type": "markdown",
   "metadata": {},
   "source": [
    "## 计算$H(T)$和$H(T,a)$"
   ]
  },
  {
   "cell_type": "code",
   "execution_count": 224,
   "metadata": {},
   "outputs": [],
   "source": [
    "pplus=len(dt.loc[dt['是否买房']==True])/len(dt)\n",
    "pminus=len(dt.loc[dt['是否买房']==False])/len(dt)\n",
    "HT=-pplus*Log2(pplus)-pminus*Log2(pminus)\n",
    "\n",
    "I=np.ones(4)*HT\n",
    "\n",
    "sorttype=['年龄','收入','性别','婚姻状况']\n",
    "sortcondition=[[30,40],[200000,400000],[1],[1]]\n",
    "\n",
    "for j in range(len(sortcondition)):\n",
    "    tp=dt[[sorttype[j],'是否买房']].to_numpy()\n",
    "    tp=tp[tp[:,0].argsort()]\n",
    "    cal=np.split(tp,tp[:,0].searchsorted(sortcondition[j]))\n",
    "\n",
    "    for i in range(len(cal)):\n",
    "        ppplus=sum(cal[i][:,1])/len(cal[i])\n",
    "        ppminus=1-ppplus\n",
    "        I[j]+=-(-ppplus*Log2(ppplus)-ppminus*Log2(ppminus))*len(cal[i])/len(tp)"
   ]
  },
  {
   "cell_type": "code",
   "execution_count": 236,
   "metadata": {},
   "outputs": [
    {
     "name": "stdout",
     "output_type": "stream",
     "text": [
      "[['0.45443400292496505' '收入']\n",
      " ['0.26571212738409783' '年龄']\n",
      " ['0.04879494069539869' '婚姻状况']\n",
      " ['0.015712127384097885' '性别']]\n"
     ]
    }
   ],
   "source": [
    "rlt=np.concatenate(([I],[sorttype])).transpose()\n",
    "print(rlt[rlt[:,0].argsort()][::-1])"
   ]
  },
  {
   "cell_type": "code",
   "execution_count": null,
   "metadata": {},
   "outputs": [],
   "source": []
  }
 ],
 "metadata": {
  "interpreter": {
   "hash": "474df3d2afca2021df4a34dc6b6349abbee314f1889385c711c5dd7210ac9d2f"
  },
  "kernelspec": {
   "display_name": "Python 3.9.5 64-bit",
   "language": "python",
   "name": "python3"
  },
  "language_info": {
   "codemirror_mode": {
    "name": "ipython",
    "version": 3
   },
   "file_extension": ".py",
   "mimetype": "text/x-python",
   "name": "python",
   "nbconvert_exporter": "python",
   "pygments_lexer": "ipython3",
   "version": "3.9.5"
  },
  "orig_nbformat": 4
 },
 "nbformat": 4,
 "nbformat_minor": 2
}
