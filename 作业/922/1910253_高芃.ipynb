{
 "cells": [
  {
   "cell_type": "markdown",
   "source": [
    "# 找出数组中次大的元素"
   ],
   "metadata": {}
  },
  {
   "cell_type": "code",
   "execution_count": 14,
   "source": [
    "lst=[1.2, 3.5, 7.3, -4.2, 2.7, 8.6]\r\n",
    "list.sort(lst)\r\n",
    "print(lst[-2])"
   ],
   "outputs": [
    {
     "output_type": "stream",
     "name": "stdout",
     "text": [
      "7.3\n"
     ]
    }
   ],
   "metadata": {}
  },
  {
   "cell_type": "markdown",
   "source": [
    "# 素数分布函数"
   ],
   "metadata": {}
  },
  {
   "cell_type": "code",
   "execution_count": 3,
   "source": [
    "def primelessthanN(N):\r\n",
    "    '''input N must greater than 2 ! '''\r\n",
    "    rlt=[]\r\n",
    "    for n in range(2,N):\r\n",
    "        num=0\r\n",
    "        for i in range(2,int(n**0.5)+1):\r\n",
    "            if n%i==0:\r\n",
    "                num=1\r\n",
    "                break\r\n",
    "        if num==0:\r\n",
    "            rlt.append(n)                \r\n",
    "    return rlt\r\n",
    "\r\n",
    "def primepropofN(N):\r\n",
    "    return len(primelessthanN(N))/N\r\n",
    "print(primelessthanN.__doc__)\r\n",
    "print(list(map(primepropofN,[10,100,1000,10000,100000])))"
   ],
   "outputs": [
    {
     "output_type": "stream",
     "name": "stdout",
     "text": [
      "input N must greater than 2 ! \n",
      "[0.4, 0.25, 0.168, 0.1229, 0.09592]\n"
     ]
    }
   ],
   "metadata": {}
  },
  {
   "cell_type": "markdown",
   "source": [
    "# 读写.csv表"
   ],
   "metadata": {}
  },
  {
   "cell_type": "code",
   "execution_count": null,
   "source": [
    "import os\r\n",
    "os.rename(\"earthquake_data.csv\",\"earthquake_data.txt\")\r\n",
    "fle=open('earthquake_data.txt','r+',encoding='utf-8')\r\n",
    "az=str(fle.read())\r\n",
    "fle.truncate(0)\r\n",
    "uz=az.replace(\"内蒙古\",\"内蒙古自治区\").encode('utf-8').decode('utf-8')\r\n",
    "fle.write(uz)\r\n",
    "fle.close()\r\n",
    "os.rename(\"earthquake_data.txt\",\"earthquake_data.csv\")"
   ],
   "outputs": [],
   "metadata": {}
  }
 ],
 "metadata": {
  "orig_nbformat": 4,
  "language_info": {
   "name": "python",
   "version": "3.9.5",
   "mimetype": "text/x-python",
   "codemirror_mode": {
    "name": "ipython",
    "version": 3
   },
   "pygments_lexer": "ipython3",
   "nbconvert_exporter": "python",
   "file_extension": ".py"
  },
  "kernelspec": {
   "name": "python3",
   "display_name": "Python 3.9.5 64-bit"
  },
  "interpreter": {
   "hash": "474df3d2afca2021df4a34dc6b6349abbee314f1889385c711c5dd7210ac9d2f"
  }
 },
 "nbformat": 4,
 "nbformat_minor": 2
}