{
 "cells": [
  {
   "cell_type": "markdown",
   "metadata": {},
   "source": [
    "# 题目例子\n",
    "## 一、简答题\n",
    "\n",
    "1. 写出下面语句执行后的答案\n",
    "    ```python\n",
    "    print('Hello' == 'hello')\n",
    "    ```"
   ]
  },
  {
   "cell_type": "code",
   "execution_count": 1,
   "metadata": {},
   "outputs": [
    {
     "name": "stdout",
     "output_type": "stream",
     "text": [
      "False\n"
     ]
    }
   ],
   "source": [
    "print('Hello'=='hello')"
   ]
  },
  {
   "cell_type": "markdown",
   "metadata": {},
   "source": [
    "答案是`False`。\n",
    "\n",
    "---\n",
    "   \n",
    "2. 写出下面语句执行后的答案\n",
    "    ```python\n",
    "    a = [5, 'tree', True, 3.8]\n",
    "    print(a[1]+str(a[3]))\n",
    "    ```"
   ]
  },
  {
   "cell_type": "code",
   "execution_count": 2,
   "metadata": {},
   "outputs": [
    {
     "name": "stdout",
     "output_type": "stream",
     "text": [
      "tree3.8\n"
     ]
    }
   ],
   "source": [
    "a = [5, 'tree', True, 3.8]\n",
    "print(a[1]+str(a[3]))"
   ]
  },
  {
   "cell_type": "markdown",
   "metadata": {},
   "source": [
    "答案是`tree3.8`。\n",
    "\n",
    "---\n",
    "\n",
    "3. 要用matplotlib画出并显示$y=x^3-13x^2+47x-35$的曲线，请补全三行代码：\n",
    "    ```python\n",
    "    import matplotlib.pyplot as plt\n",
    "    x = [i*0.2 for i in range(40)]\n",
    "    ```"
   ]
  },
  {
   "cell_type": "code",
   "execution_count": 5,
   "metadata": {},
   "outputs": [],
   "source": [
    "import matplotlib.pyplot as plt\n",
    "x = [i*0.2 for i in range(40)]"
   ]
  },
  {
   "cell_type": "markdown",
   "metadata": {},
   "source": [
    "答案如下："
   ]
  },
  {
   "cell_type": "code",
   "execution_count": 13,
   "metadata": {},
   "outputs": [
    {
     "data": {
      "image/png": "[encoded data removed]",
      "text/plain": [
       "<Figure size 432x288 with 1 Axes>"
      ]
     },
     "metadata": {
      "needs_background": "light"
     },
     "output_type": "display_data"
    }
   ],
   "source": [
    "y=[i**3-13*i**2+47*i-35 for i in x]\n",
    "plt.plot(x,y)\n",
    "plt.show()"
   ]
  },
  {
   "cell_type": "markdown",
   "metadata": {},
   "source": [
    "---\n",
    "\n",
    "4. 写出下面语句执行后的答案\n",
    "    ```python\n",
    "    import numpy as np\n",
    "    a = np.arange(12)\n",
    "    a.shape = (3,4)\n",
    "    print(a[:,1:3])\n",
    "    ```"
   ]
  },
  {
   "cell_type": "code",
   "execution_count": 15,
   "metadata": {},
   "outputs": [
    {
     "name": "stdout",
     "output_type": "stream",
     "text": [
      "[[ 1  2]\n",
      " [ 5  6]\n",
      " [ 9 10]]\n"
     ]
    }
   ],
   "source": [
    "import numpy as np\n",
    "a = np.arange(12)\n",
    "a.shape = (3,4)\n",
    "print(a[:,1:3])"
   ]
  },
  {
   "cell_type": "markdown",
   "metadata": {},
   "source": [
    "答案如上。\n",
    "\n",
    "---\n",
    "\n",
    "5. 已知df变量是DataFrame类型，内容为\n",
    "\n",
    "| | city | year | 订购量 |\n",
    "|-|-|-|-|\n",
    "| 0 | Beijing | 2000 | 12 |\n",
    "| 1 | shanghai | 2001 | 55 |\n",
    "| 2 | shenzhen | 2002 | 33 |\n",
    "\n",
    "要新增一列，列名为“参评人数”，其值为“78,42,51”，请写一行代码实现："
   ]
  },
  {
   "cell_type": "code",
   "execution_count": 18,
   "metadata": {},
   "outputs": [],
   "source": [
    "import pandas as pd\n",
    "df=pd.DataFrame(data={\n",
    "    'city':[\"Beijing\",\"shanghai\",\"shenzhen\"],\n",
    "    'year':[2000,2001,2002],\n",
    "    '订购量':[12,55,33]\n",
    "})"
   ]
  },
  {
   "cell_type": "markdown",
   "metadata": {},
   "source": [
    "答案如下："
   ]
  },
  {
   "cell_type": "code",
   "execution_count": 19,
   "metadata": {},
   "outputs": [],
   "source": [
    "df['参评人数']=[78,42,51]"
   ]
  },
  {
   "cell_type": "markdown",
   "metadata": {},
   "source": [
    "验证如下："
   ]
  },
  {
   "cell_type": "code",
   "execution_count": 20,
   "metadata": {},
   "outputs": [
    {
     "data": {
      "text/html": [
       "<div>\n",
       "<style scoped>\n",
       "    .dataframe tbody tr th:only-of-type {\n",
       "        vertical-align: middle;\n",
       "    }\n",
       "\n",
       "    .dataframe tbody tr th {\n",
       "        vertical-align: top;\n",
       "    }\n",
       "\n",
       "    .dataframe thead th {\n",
       "        text-align: right;\n",
       "    }\n",
       "</style>\n",
       "<table border=\"1\" class=\"dataframe\">\n",
       "  <thead>\n",
       "    <tr style=\"text-align: right;\">\n",
       "      <th></th>\n",
       "      <th>city</th>\n",
       "      <th>year</th>\n",
       "      <th>订购量</th>\n",
       "      <th>参评人数</th>\n",
       "    </tr>\n",
       "  </thead>\n",
       "  <tbody>\n",
       "    <tr>\n",
       "      <th>0</th>\n",
       "      <td>Beijing</td>\n",
       "      <td>2000</td>\n",
       "      <td>12</td>\n",
       "      <td>78</td>\n",
       "    </tr>\n",
       "    <tr>\n",
       "      <th>1</th>\n",
       "      <td>shanghai</td>\n",
       "      <td>2001</td>\n",
       "      <td>55</td>\n",
       "      <td>42</td>\n",
       "    </tr>\n",
       "    <tr>\n",
       "      <th>2</th>\n",
       "      <td>shenzhen</td>\n",
       "      <td>2002</td>\n",
       "      <td>33</td>\n",
       "      <td>51</td>\n",
       "    </tr>\n",
       "  </tbody>\n",
       "</table>\n",
       "</div>"
      ],
      "text/plain": [
       "       city  year  订购量  参评人数\n",
       "0   Beijing  2000   12    78\n",
       "1  shanghai  2001   55    42\n",
       "2  shenzhen  2002   33    51"
      ]
     },
     "execution_count": 20,
     "metadata": {},
     "output_type": "execute_result"
    }
   ],
   "source": [
    "df"
   ]
  },
  {
   "cell_type": "markdown",
   "metadata": {},
   "source": [
    "---\n",
    "\n",
    "6. 解释代码`with open('afile.txt','r') as f: print(f.read())`想做什么"
   ]
  },
  {
   "cell_type": "markdown",
   "metadata": {},
   "source": [
    "答：以只读(`read`)模式打开`afile.txt`文本文件，并输出其中的内容。\n",
    "\n",
    "---\n",
    "\n",
    "7. 已知\n",
    "`a = np.array([1,3,1]); b = np.array([2,4,3])`\n",
    "，写出向量`a`,`b`点乘和叉乘代码"
   ]
  },
  {
   "cell_type": "code",
   "execution_count": 26,
   "metadata": {},
   "outputs": [
    {
     "name": "stdout",
     "output_type": "stream",
     "text": [
      "17\n",
      "[ 5 -1 -2]\n"
     ]
    }
   ],
   "source": [
    "import numpy as np\n",
    "a = np.array([1,3,1]); b = np.array([2,4,3])\n",
    "print(np.dot(a,b))\n",
    "print(np.cross(a,b))"
   ]
  },
  {
   "cell_type": "markdown",
   "metadata": {},
   "source": [
    "答案为：\n",
    "```python\n",
    "np.dot(a,b)\n",
    "np.cross(a,b)\n",
    "```"
   ]
  },
  {
   "cell_type": "markdown",
   "metadata": {},
   "source": [
    "\n",
    "---\n",
    "\n",
    "## 二\n",
    "已知有$n$个元素的列表`L`，编写一个函数`movelist`，使其前面各元素顺序向后移$m$个位置，最后$m$个元素变成最前面的$m$个元素，返回新的列表`L2`。主程序用`L=[3;True;7;\"hello\";8;9;10],m= 3`调用此函数，打印所得的新列表"
   ]
  },
  {
   "cell_type": "code",
   "execution_count": 38,
   "metadata": {},
   "outputs": [
    {
     "data": {
      "text/plain": [
       "[8, 9, 10, 3, True, 7, 'hello']"
      ]
     },
     "execution_count": 38,
     "metadata": {},
     "output_type": "execute_result"
    }
   ],
   "source": [
    "def movelist(L,m):\n",
    "    n=len(L)\n",
    "    G=[None]*n\n",
    "    for i in range(n):\n",
    "        G[i]=L[(i-m)%n]\n",
    "    return G\n",
    "\n",
    "L=[3,True,7,\"hello\",8,9,10];m=3\n",
    "movelist(L,m)"
   ]
  },
  {
   "cell_type": "markdown",
   "metadata": {},
   "source": [
    "因此，答案如下：\n",
    "```python\n",
    "def movelist(L,m):\n",
    "    n=len(L)\n",
    "    G=[None]*n\n",
    "    for i in range(n):\n",
    "        G[i]=L[(i-m)%n]\n",
    "    return G\n",
    "```"
   ]
  },
  {
   "cell_type": "markdown",
   "metadata": {},
   "source": [
    "---\n",
    "\n",
    "## 三\n",
    "方程\n",
    "$$\n",
    "\\frac{d^2x}{dt^2}+a\\frac{dx}{dt}+bx=F\\cos \\left( ct \\right) \n",
    "$$\n",
    "中取$a=0.2,b=1,F=0.1,c=1$。令$v=\\frac{dx}{dt}$。初始$t=0$时刻，取三个初值点为$P(x=1,v=0),Q(x=0,v=1),W(x=2,v=0.5)$，三个点形成一个三角形$\\triangle \\text{PQW}$。编程计算三角形$\\triangle \\text{PQW}$的周长$L(t)$随着时间的变化（取$t=0\\sim99$），画出$L(t)$的曲线图\n"
   ]
  },
  {
   "cell_type": "code",
   "execution_count": 27,
   "metadata": {},
   "outputs": [
    {
     "data": {
      "text/plain": [
       "2"
      ]
     },
     "execution_count": 27,
     "metadata": {},
     "output_type": "execute_result"
    }
   ],
   "source": []
  },
  {
   "cell_type": "markdown",
   "metadata": {},
   "source": [
    "---\n",
    "\n",
    "## 四\n",
    "'fastfood.csv'文件是一段时期的快餐订单数据，内容如下表所示，请以pandas为主编程计算表中的：\n",
    "\n",
    "（1）将`item_price`转化为浮点数。\n",
    "\n",
    "（2）下单数量最多商品是什么？\n",
    "\n",
    "（3）在该数据集对应的时期内，卖商品所得收入是多少？\n",
    "\n",
    "|  order_id  |  quantity  |  item_name  |  item_price  |\n",
    "|-|-|-|-|\n",
    "| 1 | 1 |  Chips and Fresh Tomato Salsa  | $ 2.39 |\n",
    "| 1 | 1 |  Izze  | $ 3.39 |\n",
    "| 1 | 1 |  Nantucket Nectar  | $ 3.39 |\n",
    "| 1 | 1 |  Chips and Tomatillo-Green Chili Salsa  | $ 2.39 |\n",
    "| 2 | 2 |  Chicken Bowl  | $ 16.98 |\n",
    "| 3 | 1 |  Chicken Bowl  | $ 10.98 |\n",
    "| 3 | 1 |  Side of Chips  | $ 1.69 |\n",
    "| 4 | 1 |  Steak Burrito  | $ 11.75 |\n",
    "| 4 | 1 |  Steak Soft Tacos  | $ 9.25 |\n",
    "| ...... | ...... | ....... | |"
   ]
  },
  {
   "cell_type": "code",
   "execution_count": 1,
   "metadata": {},
   "outputs": [
    {
     "data": {
      "text/html": [
       "<div>\n",
       "<style scoped>\n",
       "    .dataframe tbody tr th:only-of-type {\n",
       "        vertical-align: middle;\n",
       "    }\n",
       "\n",
       "    .dataframe tbody tr th {\n",
       "        vertical-align: top;\n",
       "    }\n",
       "\n",
       "    .dataframe thead th {\n",
       "        text-align: right;\n",
       "    }\n",
       "</style>\n",
       "<table border=\"1\" class=\"dataframe\">\n",
       "  <thead>\n",
       "    <tr style=\"text-align: right;\">\n",
       "      <th></th>\n",
       "      <th>order_id</th>\n",
       "      <th>quantity</th>\n",
       "      <th>item_name</th>\n",
       "      <th>item_price</th>\n",
       "    </tr>\n",
       "  </thead>\n",
       "  <tbody>\n",
       "    <tr>\n",
       "      <th>0</th>\n",
       "      <td>1</td>\n",
       "      <td>1</td>\n",
       "      <td>Chips</td>\n",
       "      <td>$2.39</td>\n",
       "    </tr>\n",
       "    <tr>\n",
       "      <th>1</th>\n",
       "      <td>1</td>\n",
       "      <td>1</td>\n",
       "      <td>Izze</td>\n",
       "      <td>$3.39</td>\n",
       "    </tr>\n",
       "    <tr>\n",
       "      <th>2</th>\n",
       "      <td>1</td>\n",
       "      <td>1</td>\n",
       "      <td>Nantucket</td>\n",
       "      <td>$3.39</td>\n",
       "    </tr>\n",
       "    <tr>\n",
       "      <th>3</th>\n",
       "      <td>1</td>\n",
       "      <td>1</td>\n",
       "      <td>Chips and</td>\n",
       "      <td>$2.39</td>\n",
       "    </tr>\n",
       "    <tr>\n",
       "      <th>4</th>\n",
       "      <td>2</td>\n",
       "      <td>2</td>\n",
       "      <td>Chicken</td>\n",
       "      <td>$16.98</td>\n",
       "    </tr>\n",
       "    <tr>\n",
       "      <th>5</th>\n",
       "      <td>3</td>\n",
       "      <td>1</td>\n",
       "      <td>Chicken</td>\n",
       "      <td>$10.98</td>\n",
       "    </tr>\n",
       "    <tr>\n",
       "      <th>6</th>\n",
       "      <td>3</td>\n",
       "      <td>1</td>\n",
       "      <td>Side</td>\n",
       "      <td>$1.69</td>\n",
       "    </tr>\n",
       "    <tr>\n",
       "      <th>7</th>\n",
       "      <td>4</td>\n",
       "      <td>1</td>\n",
       "      <td>Steak</td>\n",
       "      <td>$11.75</td>\n",
       "    </tr>\n",
       "    <tr>\n",
       "      <th>8</th>\n",
       "      <td>4</td>\n",
       "      <td>1</td>\n",
       "      <td>Steak Soft</td>\n",
       "      <td>$9.25</td>\n",
       "    </tr>\n",
       "  </tbody>\n",
       "</table>\n",
       "</div>"
      ],
      "text/plain": [
       "   order_id  quantity   item_name item_price\n",
       "0         1         1       Chips      $2.39\n",
       "1         1         1        Izze      $3.39\n",
       "2         1         1   Nantucket      $3.39\n",
       "3         1         1   Chips and      $2.39\n",
       "4         2         2     Chicken     $16.98\n",
       "5         3         1     Chicken     $10.98\n",
       "6         3         1        Side      $1.69\n",
       "7         4         1       Steak     $11.75\n",
       "8         4         1  Steak Soft      $9.25"
      ]
     },
     "execution_count": 1,
     "metadata": {},
     "output_type": "execute_result"
    }
   ],
   "source": [
    "import pandas as pd\n",
    "dt=pd.DataFrame({\n",
    "    'order_id':[1,1,1,1,2,3,3,4,4],\n",
    "    'quantity':[1,1,1,1,2,1,1,1,1],\n",
    "    'item_name':['Chips','Izze','Nantucket','Chips and','Chicken','Chicken','Side','Steak','Steak Soft'],\n",
    "    'item_price':['$2.39','$3.39','$3.39','$2.39','$16.98','$10.98','$1.69','$11.75','$9.25']\n",
    "    })\n",
    "dt    "
   ]
  },
  {
   "cell_type": "markdown",
   "metadata": {},
   "source": [
    "（1）："
   ]
  },
  {
   "cell_type": "code",
   "execution_count": 31,
   "metadata": {},
   "outputs": [
    {
     "data": {
      "text/plain": [
       "[2.39, 3.39, 3.39, 2.39, 16.98, 10.98, 1.69, 11.75, 9.25]"
      ]
     },
     "execution_count": 31,
     "metadata": {},
     "output_type": "execute_result"
    }
   ],
   "source": [
    "price=dt['item_price'].tolist()\n",
    "\n",
    "for i in range(len(price)):\n",
    "    price[i]=float(price[i][1:])\n",
    "\n",
    "price"
   ]
  },
  {
   "cell_type": "code",
   "execution_count": 29,
   "metadata": {},
   "outputs": [
    {
     "data": {
      "text/plain": [
       "[2.39, 3.39, 3.39, 2.39, 16.98, 10.98, 1.69, 11.75, 9.25]"
      ]
     },
     "execution_count": 29,
     "metadata": {},
     "output_type": "execute_result"
    }
   ],
   "source": [
    "price"
   ]
  },
  {
   "cell_type": "markdown",
   "metadata": {},
   "source": []
  },
  {
   "cell_type": "markdown",
   "metadata": {},
   "source": [
    "# 六\n",
    "根据下表的数据，求出判断是否同意贷款的决策树（只求根节点字段）。\n"
   ]
  },
  {
   "cell_type": "markdown",
   "metadata": {},
   "source": [
    "## 七\n",
    "__Task.__ In the neural network below, let the transfer function be $f(\\Sigma)=\\frac{1}{1+e^{-\\Sigma}}$. Using backpropagation of error (with $\\eta=0.1$), show how the weights are modified after the presentation of the following example: $[\\mathbf x,\\mathbf t(\\mathbf x)]=[(1,-1),(1,0)]$\n",
    "\n",
    "![](sources\\9.png)"
   ]
  },
  {
   "cell_type": "markdown",
   "metadata": {},
   "source": []
  },
  {
   "cell_type": "markdown",
   "metadata": {},
   "source": []
  },
  {
   "cell_type": "markdown",
   "metadata": {},
   "source": []
  },
  {
   "cell_type": "markdown",
   "metadata": {},
   "source": []
  },
  {
   "cell_type": "markdown",
   "metadata": {},
   "source": []
  },
  {
   "cell_type": "code",
   "execution_count": null,
   "metadata": {},
   "outputs": [],
   "source": []
  }
 ],
 "metadata": {
  "interpreter": {
   "hash": "474df3d2afca2021df4a34dc6b6349abbee314f1889385c711c5dd7210ac9d2f"
  },
  "kernelspec": {
   "display_name": "Python 3.9.5 64-bit",
   "language": "python",
   "name": "python3"
  },
  "language_info": {
   "codemirror_mode": {
    "name": "ipython",
    "version": 3
   },
   "file_extension": ".py",
   "mimetype": "text/x-python",
   "name": "python",
   "nbconvert_exporter": "python",
   "pygments_lexer": "ipython3",
   "version": "3.9.5"
  },
  "orig_nbformat": 4
 },
 "nbformat": 4,
 "nbformat_minor": 2
}
