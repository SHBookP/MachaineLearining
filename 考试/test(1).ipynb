{
 "cells": [
  {
   "cell_type": "markdown",
   "metadata": {},
   "source": [
    "# 题目例子\n",
    "## 一、简答题\n",
    "\n",
    "1. 写出下面语句执行后的答案\n",
    "    ```python\n",
    "    print('Hello' == 'hello')\n",
    "    ```"
   ]
  },
  {
   "cell_type": "code",
   "execution_count": 1,
   "metadata": {},
   "outputs": [
    {
     "name": "stdout",
     "output_type": "stream",
     "text": [
      "False\n"
     ]
    }
   ],
   "source": [
    "print('Hello'=='hello')"
   ]
  },
  {
   "cell_type": "markdown",
   "metadata": {},
   "source": [
    "答案是`False`。\n",
    "\n",
    "---\n",
    "   \n",
    "2. 写出下面语句执行后的答案\n",
    "    ```python\n",
    "    a = [5, 'tree', True, 3.8]\n",
    "    print(a[1]+str(a[3]))\n",
    "    ```"
   ]
  },
  {
   "cell_type": "code",
   "execution_count": 2,
   "metadata": {},
   "outputs": [
    {
     "name": "stdout",
     "output_type": "stream",
     "text": [
      "tree3.8\n"
     ]
    }
   ],
   "source": [
    "a = [5, 'tree', True, 3.8]\n",
    "print(a[1]+str(a[3]))"
   ]
  },
  {
   "cell_type": "markdown",
   "metadata": {},
   "source": [
    "答案是`tree3.8`。\n",
    "\n",
    "---\n",
    "\n",
    "3. 要用matplotlib画出并显示$y=x^3-13x^2+47x-35$的曲线，请补全三行代码：\n",
    "    ```python\n",
    "    import matplotlib.pyplot as plt\n",
    "    x = [i*0.2 for i in range(40)]\n",
    "    ```"
   ]
  },
  {
   "cell_type": "code",
   "execution_count": 3,
   "metadata": {},
   "outputs": [],
   "source": [
    "import matplotlib.pyplot as plt\n",
    "x = [i*0.2 for i in range(40)]"
   ]
  },
  {
   "cell_type": "markdown",
   "metadata": {},
   "source": [
    "答案如下："
   ]
  },
  {
   "cell_type": "code",
   "execution_count": 4,
   "metadata": {},
   "outputs": [
    {
     "data": {
      "image/png": "[encoded data removed]",
      "text/plain": [
       "<Figure size 432x288 with 1 Axes>"
      ]
     },
     "metadata": {
      "needs_background": "light"
     },
     "output_type": "display_data"
    }
   ],
   "source": [
    "y=[i**3-13*i**2+47*i-35 for i in x]\n",
    "plt.plot(x,y)\n",
    "plt.show()"
   ]
  },
  {
   "cell_type": "markdown",
   "metadata": {},
   "source": [
    "---\n",
    "\n",
    "4. 写出下面语句执行后的答案\n",
    "    ```python\n",
    "    import numpy as np\n",
    "    a = np.arange(12)\n",
    "    a.shape = (3,4)\n",
    "    print(a[:,1:3])\n",
    "    ```"
   ]
  },
  {
   "cell_type": "code",
   "execution_count": 5,
   "metadata": {},
   "outputs": [
    {
     "name": "stdout",
     "output_type": "stream",
     "text": [
      "[[ 1  2]\n",
      " [ 5  6]\n",
      " [ 9 10]]\n"
     ]
    }
   ],
   "source": [
    "import numpy as np\n",
    "a = np.arange(12)\n",
    "a.shape = (3,4)\n",
    "print(a[:,1:3])"
   ]
  },
  {
   "cell_type": "markdown",
   "metadata": {},
   "source": [
    "答案如上。\n",
    "\n",
    "---\n",
    "\n",
    "5. 已知df变量是DataFrame类型，内容为\n",
    "\n",
    "| | city | year | 订购量 |\n",
    "|-|-|-|-|\n",
    "| 0 | Beijing | 2000 | 12 |\n",
    "| 1 | shanghai | 2001 | 55 |\n",
    "| 2 | shenzhen | 2002 | 33 |\n",
    "\n",
    "要新增一列，列名为“参评人数”，其值为“78,42,51”，请写一行代码实现："
   ]
  },
  {
   "cell_type": "code",
   "execution_count": 6,
   "metadata": {},
   "outputs": [],
   "source": [
    "import pandas as pd\n",
    "df=pd.DataFrame(data={\n",
    "    'city':[\"Beijing\",\"shanghai\",\"shenzhen\"],\n",
    "    'year':[2000,2001,2002],\n",
    "    '订购量':[12,55,33]\n",
    "})"
   ]
  },
  {
   "cell_type": "markdown",
   "metadata": {},
   "source": [
    "答案如下："
   ]
  },
  {
   "cell_type": "code",
   "execution_count": 7,
   "metadata": {},
   "outputs": [],
   "source": [
    "df['参评人数']=[78,42,51]"
   ]
  },
  {
   "cell_type": "markdown",
   "metadata": {},
   "source": [
    "验证如下："
   ]
  },
  {
   "cell_type": "code",
   "execution_count": 8,
   "metadata": {},
   "outputs": [
    {
     "data": {
      "text/html": [
       "<div>\n",
       "<style scoped>\n",
       "    .dataframe tbody tr th:only-of-type {\n",
       "        vertical-align: middle;\n",
       "    }\n",
       "\n",
       "    .dataframe tbody tr th {\n",
       "        vertical-align: top;\n",
       "    }\n",
       "\n",
       "    .dataframe thead th {\n",
       "        text-align: right;\n",
       "    }\n",
       "</style>\n",
       "<table border=\"1\" class=\"dataframe\">\n",
       "  <thead>\n",
       "    <tr style=\"text-align: right;\">\n",
       "      <th></th>\n",
       "      <th>city</th>\n",
       "      <th>year</th>\n",
       "      <th>订购量</th>\n",
       "      <th>参评人数</th>\n",
       "    </tr>\n",
       "  </thead>\n",
       "  <tbody>\n",
       "    <tr>\n",
       "      <th>0</th>\n",
       "      <td>Beijing</td>\n",
       "      <td>2000</td>\n",
       "      <td>12</td>\n",
       "      <td>78</td>\n",
       "    </tr>\n",
       "    <tr>\n",
       "      <th>1</th>\n",
       "      <td>shanghai</td>\n",
       "      <td>2001</td>\n",
       "      <td>55</td>\n",
       "      <td>42</td>\n",
       "    </tr>\n",
       "    <tr>\n",
       "      <th>2</th>\n",
       "      <td>shenzhen</td>\n",
       "      <td>2002</td>\n",
       "      <td>33</td>\n",
       "      <td>51</td>\n",
       "    </tr>\n",
       "  </tbody>\n",
       "</table>\n",
       "</div>"
      ],
      "text/plain": [
       "       city  year  订购量  参评人数\n",
       "0   Beijing  2000   12    78\n",
       "1  shanghai  2001   55    42\n",
       "2  shenzhen  2002   33    51"
      ]
     },
     "execution_count": 8,
     "metadata": {},
     "output_type": "execute_result"
    }
   ],
   "source": [
    "df"
   ]
  },
  {
   "cell_type": "markdown",
   "metadata": {},
   "source": [
    "---\n",
    "\n",
    "6. 解释代码`with open('afile.txt','r') as f: print(f.read())`想做什么"
   ]
  },
  {
   "cell_type": "markdown",
   "metadata": {},
   "source": [
    "答：以只读(`read`)模式打开`afile.txt`文本文件，并输出其中的内容。\n",
    "\n",
    "---\n",
    "\n",
    "7. 已知\n",
    "`a = np.array([1,3,1]); b = np.array([2,4,3])`\n",
    "，写出向量`a`,`b`点乘和叉乘代码"
   ]
  },
  {
   "cell_type": "code",
   "execution_count": 9,
   "metadata": {},
   "outputs": [
    {
     "name": "stdout",
     "output_type": "stream",
     "text": [
      "17\n",
      "[ 5 -1 -2]\n"
     ]
    }
   ],
   "source": [
    "import numpy as np\n",
    "a = np.array([1,3,1]); b = np.array([2,4,3])\n",
    "print(np.dot(a,b))\n",
    "print(np.cross(a,b))"
   ]
  },
  {
   "cell_type": "markdown",
   "metadata": {},
   "source": [
    "答案为：\n",
    "```python\n",
    "np.dot(a,b)\n",
    "np.cross(a,b)\n",
    "```"
   ]
  },
  {
   "cell_type": "markdown",
   "metadata": {},
   "source": [
    "\n",
    "---\n",
    "\n",
    "## 二\n",
    "已知有$n$个元素的列表`L`，编写一个函数`movelist`，使其前面各元素顺序向后移$m$个位置，最后$m$个元素变成最前面的$m$个元素，返回新的列表`L2`。主程序用`L=[3;True;7;\"hello\";8;9;10],m= 3`调用此函数，打印所得的新列表"
   ]
  },
  {
   "cell_type": "code",
   "execution_count": 10,
   "metadata": {},
   "outputs": [
    {
     "data": {
      "text/plain": [
       "[8, 9, 10, 3, True, 7, 'hello']"
      ]
     },
     "execution_count": 10,
     "metadata": {},
     "output_type": "execute_result"
    }
   ],
   "source": [
    "def movelist(L,m):\n",
    "    n=len(L)\n",
    "    G=[None]*n\n",
    "    for i in range(n):\n",
    "        G[i]=L[(i-m)%n]\n",
    "    # G[:m] = L[-m:]\n",
    "    # G[m:] = L[:n-m]\n",
    "    return G\n",
    "\n",
    "L=[3,True,7,\"hello\",8,9,10];m=3\n",
    "movelist(L,m)"
   ]
  },
  {
   "cell_type": "markdown",
   "metadata": {},
   "source": [
    "因此，答案如下：\n",
    "```python\n",
    "def movelist(L,m):\n",
    "    n=len(L)\n",
    "    G=[None]*n\n",
    "    for i in range(n):\n",
    "        G[i]=L[(i-m)%n]\n",
    "    return G\n",
    "```"
   ]
  },
  {
   "cell_type": "markdown",
   "metadata": {},
   "source": [
    "---\n",
    "\n",
    "## 三\n",
    "方程\n",
    "$$\n",
    "\\frac{d^2x}{dt^2}+a\\frac{dx}{dt}+bx=F\\cos \\left( ct \\right) \n",
    "$$\n",
    "中取$a=0.2,b=1,F=0.1,c=1$。令$v=\\frac{dx}{dt}$。初始$t=0$时刻，取三个初值点为$P(x=1,v=0),Q(x=0,v=1),W(x=2,v=0.5)$，三个点形成一个三角形$\\triangle \\text{PQW}$。编程计算三角形$\\triangle \\text{PQW}$的周长$L(t)$随着时间的变化（取$t=0\\sim99$），画出$L(t)$的曲线图\n"
   ]
  },
  {
   "cell_type": "code",
   "execution_count": 32,
   "metadata": {},
   "outputs": [
    {
     "data": {
      "image/png": "[encoded data removed]",
      "text/plain": [
       "<Figure size 432x288 with 1 Axes>"
      ]
     },
     "metadata": {
      "needs_background": "light"
     },
     "output_type": "display_data"
    }
   ],
   "source": [
    "import numpy as np\n",
    "import matplotlib.pyplot as plt\n",
    "def move(X0,t,dt=1):\n",
    "    a=0.2;b=1;F=0.1;c=1\n",
    "    x0,v0 = X0\n",
    "    acc = F*np.cos(c*t) - b*x0 - a*v0\n",
    "    x = x0 + v0*dt\n",
    "    v = v0 + acc*dt\n",
    "    return (x,v)\n",
    "\n",
    "def Len(P,Q):\n",
    "    return np.sqrt((P[0]-Q[0])**2+(P[1]-Q[1])**2)\n",
    "def Lt(P,Q,W):\n",
    "    return Len(P,Q)+Len(P,W)+Len(Q,W)\n",
    "\n",
    "P = (1,0);Q=(0,1);W=(2,0.5)\n",
    "t0 = 0;t1 = 99;dt=0.005\n",
    "T = np.arange(t0,t1,dt)\n",
    "L = [Lt(P,Q,W)]\n",
    "for t in T:\n",
    "    P = move(P,t,dt)\n",
    "    Q = move(Q,t,dt)\n",
    "    W = move(W,t,dt)\n",
    "    L.append(Lt(P,Q,W))\n",
    "plt.plot(np.append(T,T[-1]+dt),L)\n",
    "plt.show()"
   ]
  },
  {
   "cell_type": "markdown",
   "metadata": {},
   "source": [
    "---\n",
    "\n",
    "## 四\n",
    "'fastfood.csv'文件是一段时期的快餐订单数据，内容如下表所示，请以pandas为主编程计算表中的：\n",
    "\n",
    "（1）将`item_price`转化为浮点数。\n",
    "\n",
    "（2）下单数量最多商品是什么？\n",
    "\n",
    "（3）在该数据集对应的时期内，卖商品所得收入是多少？\n",
    "\n",
    "|  order_id  |  quantity  |  item_name  |  item_price  |\n",
    "|-|-|-|-|\n",
    "| 1 | 1 |  Chips and Fresh Tomato Salsa  | $ 2.39 |\n",
    "| 1 | 1 |  Izze  | $ 3.39 |\n",
    "| 1 | 1 |  Nantucket Nectar  | $ 3.39 |\n",
    "| 1 | 1 |  Chips and Tomatillo-Green Chili Salsa  | $ 2.39 |\n",
    "| 2 | 2 |  Chicken Bowl  | $ 16.98 |\n",
    "| 3 | 1 |  Chicken Bowl  | $ 10.98 |\n",
    "| 3 | 1 |  Side of Chips  | $ 1.69 |\n",
    "| 4 | 1 |  Steak Burrito  | $ 11.75 |\n",
    "| 4 | 1 |  Steak Soft Tacos  | $ 9.25 |\n",
    "| ...... | ...... | ....... | |"
   ]
  },
  {
   "cell_type": "code",
   "execution_count": 12,
   "metadata": {},
   "outputs": [
    {
     "data": {
      "text/html": [
       "<div>\n",
       "<style scoped>\n",
       "    .dataframe tbody tr th:only-of-type {\n",
       "        vertical-align: middle;\n",
       "    }\n",
       "\n",
       "    .dataframe tbody tr th {\n",
       "        vertical-align: top;\n",
       "    }\n",
       "\n",
       "    .dataframe thead th {\n",
       "        text-align: right;\n",
       "    }\n",
       "</style>\n",
       "<table border=\"1\" class=\"dataframe\">\n",
       "  <thead>\n",
       "    <tr style=\"text-align: right;\">\n",
       "      <th></th>\n",
       "      <th>order_id</th>\n",
       "      <th>quantity</th>\n",
       "      <th>item_name</th>\n",
       "      <th>item_price</th>\n",
       "    </tr>\n",
       "  </thead>\n",
       "  <tbody>\n",
       "    <tr>\n",
       "      <th>0</th>\n",
       "      <td>1</td>\n",
       "      <td>1</td>\n",
       "      <td>Chips and Fresh Tomato Salsa</td>\n",
       "      <td>$2.39</td>\n",
       "    </tr>\n",
       "    <tr>\n",
       "      <th>1</th>\n",
       "      <td>1</td>\n",
       "      <td>1</td>\n",
       "      <td>Izze</td>\n",
       "      <td>$3.39</td>\n",
       "    </tr>\n",
       "    <tr>\n",
       "      <th>2</th>\n",
       "      <td>1</td>\n",
       "      <td>1</td>\n",
       "      <td>Nantucket Nectar</td>\n",
       "      <td>$3.39</td>\n",
       "    </tr>\n",
       "    <tr>\n",
       "      <th>3</th>\n",
       "      <td>1</td>\n",
       "      <td>1</td>\n",
       "      <td>Chips and Tomatillo-Green Chili Salsa</td>\n",
       "      <td>$2.39</td>\n",
       "    </tr>\n",
       "    <tr>\n",
       "      <th>4</th>\n",
       "      <td>2</td>\n",
       "      <td>2</td>\n",
       "      <td>Chicken Bowl</td>\n",
       "      <td>$16.98</td>\n",
       "    </tr>\n",
       "  </tbody>\n",
       "</table>\n",
       "</div>"
      ],
      "text/plain": [
       "   order_id  quantity                               item_name item_price\n",
       "0         1         1            Chips and Fresh Tomato Salsa      $2.39\n",
       "1         1         1                                    Izze      $3.39\n",
       "2         1         1                        Nantucket Nectar      $3.39\n",
       "3         1         1   Chips and Tomatillo-Green Chili Salsa      $2.39\n",
       "4         2         2                            Chicken Bowl     $16.98"
      ]
     },
     "execution_count": 12,
     "metadata": {},
     "output_type": "execute_result"
    }
   ],
   "source": [
    "import pandas as pd\n",
    "dt=pd.read_csv('fastfood.csv',delimiter=',')\n",
    "dt.head()"
   ]
  },
  {
   "cell_type": "markdown",
   "metadata": {},
   "source": [
    "（1）将`item_price`转化为浮点数。"
   ]
  },
  {
   "cell_type": "code",
   "execution_count": 13,
   "metadata": {},
   "outputs": [
    {
     "data": {
      "text/html": [
       "<div>\n",
       "<style scoped>\n",
       "    .dataframe tbody tr th:only-of-type {\n",
       "        vertical-align: middle;\n",
       "    }\n",
       "\n",
       "    .dataframe tbody tr th {\n",
       "        vertical-align: top;\n",
       "    }\n",
       "\n",
       "    .dataframe thead th {\n",
       "        text-align: right;\n",
       "    }\n",
       "</style>\n",
       "<table border=\"1\" class=\"dataframe\">\n",
       "  <thead>\n",
       "    <tr style=\"text-align: right;\">\n",
       "      <th></th>\n",
       "      <th>order_id</th>\n",
       "      <th>quantity</th>\n",
       "      <th>item_name</th>\n",
       "      <th>item_price</th>\n",
       "    </tr>\n",
       "  </thead>\n",
       "  <tbody>\n",
       "    <tr>\n",
       "      <th>0</th>\n",
       "      <td>1</td>\n",
       "      <td>1</td>\n",
       "      <td>Chips and Fresh Tomato Salsa</td>\n",
       "      <td>2.39</td>\n",
       "    </tr>\n",
       "    <tr>\n",
       "      <th>1</th>\n",
       "      <td>1</td>\n",
       "      <td>1</td>\n",
       "      <td>Izze</td>\n",
       "      <td>3.39</td>\n",
       "    </tr>\n",
       "    <tr>\n",
       "      <th>2</th>\n",
       "      <td>1</td>\n",
       "      <td>1</td>\n",
       "      <td>Nantucket Nectar</td>\n",
       "      <td>3.39</td>\n",
       "    </tr>\n",
       "    <tr>\n",
       "      <th>3</th>\n",
       "      <td>1</td>\n",
       "      <td>1</td>\n",
       "      <td>Chips and Tomatillo-Green Chili Salsa</td>\n",
       "      <td>2.39</td>\n",
       "    </tr>\n",
       "    <tr>\n",
       "      <th>4</th>\n",
       "      <td>2</td>\n",
       "      <td>2</td>\n",
       "      <td>Chicken Bowl</td>\n",
       "      <td>16.98</td>\n",
       "    </tr>\n",
       "  </tbody>\n",
       "</table>\n",
       "</div>"
      ],
      "text/plain": [
       "   order_id  quantity                               item_name  item_price\n",
       "0         1         1            Chips and Fresh Tomato Salsa        2.39\n",
       "1         1         1                                    Izze        3.39\n",
       "2         1         1                        Nantucket Nectar        3.39\n",
       "3         1         1   Chips and Tomatillo-Green Chili Salsa        2.39\n",
       "4         2         2                            Chicken Bowl       16.98"
      ]
     },
     "execution_count": 13,
     "metadata": {},
     "output_type": "execute_result"
    }
   ],
   "source": [
    "price=dt['item_price'].tolist()\n",
    "for i in range(len(price)):\n",
    "    price[i]=float(price[i][1:])\n",
    "dt['item_price']=price\n",
    "dt.head()"
   ]
  },
  {
   "cell_type": "markdown",
   "metadata": {},
   "source": [
    "（2）下单数量最多商品是什么？"
   ]
  },
  {
   "cell_type": "code",
   "execution_count": 14,
   "metadata": {},
   "outputs": [
    {
     "name": "stdout",
     "output_type": "stream",
     "text": [
      "下单最多的商品是: Chicken Bowl\n"
     ]
    }
   ],
   "source": [
    "Num = dt.groupby('item_name').size()\n",
    "print('下单最多的商品是:%s'%Num.index[Num.argmax()])"
   ]
  },
  {
   "cell_type": "markdown",
   "metadata": {},
   "source": [
    "（3）在该数据集对应的时期内，卖商品所得收入是多少？"
   ]
  },
  {
   "cell_type": "code",
   "execution_count": 15,
   "metadata": {},
   "outputs": [
    {
     "name": "stdout",
     "output_type": "stream",
     "text": [
      "在该数据集对应的时期内，卖商品所得收入是$62.21。\n"
     ]
    }
   ],
   "source": [
    "print('在该数据集对应的时期内，卖商品所得收入是$%.2f。'%dt['item_price'].sum())"
   ]
  },
  {
   "cell_type": "markdown",
   "metadata": {},
   "source": [
    "## 五\n",
    "已知电影分类如下，利用搞笑镜头、拥抱镜头、打斗镜头的数据，使用k近邻方法判断电影“唐人街探案”属于那种类型的电影（取k=3）。\n",
    "\n",
    "|  |  搞笑镜头  |  拥抱镜头  |  打斗镜头  |  电影类型  |\n",
    "|-|-|-|-|-|\n",
    "| 叶问3 | 3 |  2  | 65 | 动作片 |\n",
    "| 夜孔雀 | 9 |  39  | 8 | 爱情片 |\n",
    "| 奔爱  | 7 |  46  | 4 | 爱情片 |\n",
    "| 宝贝当家 | 45 |  2  | 9 | 喜剧片 |\n",
    "| 美人鱼 | 21 |  17  | 5 | 喜剧片 |\n",
    "| 谍影重重 | 5 |  2  | 57 | 动作片 |\n",
    "| 唐人街探案 | 23 |  3  | 17 | ？片 |\n"
   ]
  },
  {
   "cell_type": "markdown",
   "metadata": {},
   "source": [
    "|  |  dist  |  电影类型  |\n",
    "|-|-|-|\n",
    "| 叶问3 | $\\sqrt{\\left( 3-23 \\right) ^2+\\left( 2-3 \\right) ^2+\\left( 65-17 \\right) ^2}=52.0096$ | 动作片 |\n",
    "| 夜孔雀 | $\\sqrt{\\left( 9-23 \\right) ^2+\\left( 39-3 \\right) ^2+\\left( 8-17 \\right) ^2}=39.6611$ | 爱情片 |\n",
    "| 奔爱  | $\\sqrt{\\left( 7-23 \\right) ^2+\\left( 46-3 \\right) ^2+\\left( 4-17 \\right) ^2}=47.6865$ | 爱情片 |\n",
    "| 宝贝当家 | $\\sqrt{\\left( 45-23 \\right) ^2+\\left( 2-3 \\right) ^2+\\left( 9-17 \\right) ^2}=23.4307$ | 喜剧片 |\n",
    "| 美人鱼 | $\\sqrt{\\left( 21-23 \\right) ^2+\\left( 17-3 \\right) ^2+\\left( 5-17 \\right) ^2}=18.5472$ | 喜剧片 |\n",
    "| 谍影重重 | $\\sqrt{\\left( 5-23 \\right) ^2+\\left( 2-3 \\right) ^2+\\left( 57-17 \\right) ^2}=43.8748$ | 动作片 |\n",
    "\n",
    "| 按dist顺序前k个 |  dist  |  电影类型  |\n",
    "|-|-|-|\n",
    "| 美人鱼 | 18.5472 | 喜剧片 |\n",
    "| 宝贝当家 | 23.4307 | 喜剧片 |\n",
    "| 夜孔雀 | 39.6611 | 爱情片 |\n",
    "\n",
    "\n",
    "| 电影类型 |  k中占比  |  占比最大  |\n",
    "|-|-|-|\n",
    "| 喜剧片 |  2  |  $\\ast$  |\n",
    "| 爱情片 |  1  ||\n",
    "\n",
    "综上，“唐人街探案”属于喜剧片类型的电影。"
   ]
  },
  {
   "cell_type": "markdown",
   "metadata": {},
   "source": [
    "**以下通过程序验证**"
   ]
  },
  {
   "cell_type": "code",
   "execution_count": 5,
   "metadata": {},
   "outputs": [
    {
     "data": {
      "text/html": [
       "<div>\n",
       "<style scoped>\n",
       "    .dataframe tbody tr th:only-of-type {\n",
       "        vertical-align: middle;\n",
       "    }\n",
       "\n",
       "    .dataframe tbody tr th {\n",
       "        vertical-align: top;\n",
       "    }\n",
       "\n",
       "    .dataframe thead th {\n",
       "        text-align: right;\n",
       "    }\n",
       "</style>\n",
       "<table border=\"1\" class=\"dataframe\">\n",
       "  <thead>\n",
       "    <tr style=\"text-align: right;\">\n",
       "      <th></th>\n",
       "      <th>搞笑镜头</th>\n",
       "      <th>拥抱镜头</th>\n",
       "      <th>打斗镜头</th>\n",
       "      <th>电影类型</th>\n",
       "    </tr>\n",
       "    <tr>\n",
       "      <th>电影名</th>\n",
       "      <th></th>\n",
       "      <th></th>\n",
       "      <th></th>\n",
       "      <th></th>\n",
       "    </tr>\n",
       "  </thead>\n",
       "  <tbody>\n",
       "    <tr>\n",
       "      <th>叶问3</th>\n",
       "      <td>3</td>\n",
       "      <td>2</td>\n",
       "      <td>65</td>\n",
       "      <td>动作片</td>\n",
       "    </tr>\n",
       "    <tr>\n",
       "      <th>夜孔雀</th>\n",
       "      <td>9</td>\n",
       "      <td>39</td>\n",
       "      <td>8</td>\n",
       "      <td>爱情片</td>\n",
       "    </tr>\n",
       "    <tr>\n",
       "      <th>奔爱</th>\n",
       "      <td>7</td>\n",
       "      <td>46</td>\n",
       "      <td>4</td>\n",
       "      <td>爱情片</td>\n",
       "    </tr>\n",
       "    <tr>\n",
       "      <th>宝贝当家</th>\n",
       "      <td>45</td>\n",
       "      <td>2</td>\n",
       "      <td>9</td>\n",
       "      <td>喜剧片</td>\n",
       "    </tr>\n",
       "    <tr>\n",
       "      <th>美人鱼</th>\n",
       "      <td>21</td>\n",
       "      <td>17</td>\n",
       "      <td>5</td>\n",
       "      <td>喜剧片</td>\n",
       "    </tr>\n",
       "    <tr>\n",
       "      <th>谍影重重</th>\n",
       "      <td>5</td>\n",
       "      <td>2</td>\n",
       "      <td>57</td>\n",
       "      <td>动作片</td>\n",
       "    </tr>\n",
       "    <tr>\n",
       "      <th>唐人街探案</th>\n",
       "      <td>23</td>\n",
       "      <td>3</td>\n",
       "      <td>17</td>\n",
       "      <td>？片</td>\n",
       "    </tr>\n",
       "  </tbody>\n",
       "</table>\n",
       "</div>"
      ],
      "text/plain": [
       "       搞笑镜头  拥抱镜头  打斗镜头 电影类型\n",
       "电影名                         \n",
       "叶问3       3     2    65  动作片\n",
       "夜孔雀       9    39     8  爱情片\n",
       "奔爱        7    46     4  爱情片\n",
       "宝贝当家     45     2     9  喜剧片\n",
       "美人鱼      21    17     5  喜剧片\n",
       "谍影重重      5     2    57  动作片\n",
       "唐人街探案    23     3    17   ？片"
      ]
     },
     "execution_count": 5,
     "metadata": {},
     "output_type": "execute_result"
    }
   ],
   "source": [
    "import numpy as np\n",
    "import pandas as pd\n",
    "dt=pd.DataFrame({\n",
    "    '电影名':['叶问3','夜孔雀','奔爱','宝贝当家','美人鱼','谍影重重','唐人街探案'],\n",
    "    '搞笑镜头':[3,9,7,45,21,5,23],\n",
    "    '拥抱镜头':[2,39,46,2,17,2,3],\n",
    "    '打斗镜头':[65,8,4,9,5,57,17],\n",
    "    '电影类型':['动作片','爱情片','爱情片','喜剧片','喜剧片','动作片','？片']\n",
    "    })\n",
    "dt=dt.set_index('电影名')\n",
    "dt_train = dt.iloc[:-1]\n",
    "dt"
   ]
  },
  {
   "cell_type": "code",
   "execution_count": 6,
   "metadata": {},
   "outputs": [
    {
     "data": {
      "text/plain": [
       "搞笑镜头    23\n",
       "拥抱镜头     3\n",
       "打斗镜头    17\n",
       "Name: 唐人街探案, dtype: object"
      ]
     },
     "execution_count": 6,
     "metadata": {},
     "output_type": "execute_result"
    }
   ],
   "source": [
    "dt_test = dt.iloc[-1,:-1]\n",
    "dt_test"
   ]
  },
  {
   "cell_type": "code",
   "execution_count": 7,
   "metadata": {},
   "outputs": [],
   "source": [
    "def knn_pt(pt, df, k):\n",
    "    ''' 返回k近邻的分类值。 df的最后一列是分类值，前面的列是属性值'''\n",
    "    assert( len(pt)+1 == len(df.columns) )\n",
    "    df1 = df.copy()\n",
    "    df1['dist'] = 0 # 计算距离\n",
    "    for i in range(len(pt)):\n",
    "        df1['dist'] += (df1[df1.columns[i]] - pt[i])**2\n",
    "    df1['dist'] = np.sqrt(df1['dist'])\n",
    "    print(df1)\n",
    "    df2 = df1.sort_values(by='dist') # 按距离排序\n",
    "    df2 = df2[:k] # 取前k个\n",
    "    target = df2[df2.columns[-2]].value_counts().index[0] # 取最多的那个\n",
    "    return target\n",
    "    #return target, df2 # for debuging"
   ]
  },
  {
   "cell_type": "code",
   "execution_count": 8,
   "metadata": {},
   "outputs": [
    {
     "name": "stdout",
     "output_type": "stream",
     "text": [
      "      搞笑镜头  拥抱镜头  打斗镜头 电影类型       dist\n",
      "电影名                                   \n",
      "叶问3      3     2    65  动作片  52.009614\n",
      "夜孔雀      9    39     8  爱情片  39.661064\n",
      "奔爱       7    46     4  爱情片  47.686476\n",
      "宝贝当家    45     2     9  喜剧片  23.430749\n",
      "美人鱼     21    17     5  喜剧片  18.547237\n",
      "谍影重重     5     2    57  动作片  43.874822\n",
      "“唐人街探案”属于喜剧片类型的电影。\n"
     ]
    }
   ],
   "source": [
    "res = knn_pt(dt_test.copy(), dt_train, 3)\n",
    "print('“%s”属于%s类型的电影。'%(dt_test.name,res))"
   ]
  },
  {
   "cell_type": "markdown",
   "metadata": {},
   "source": [
    "## 六\n",
    "根据下表的数据，求出判断是否同意贷款的决策树（只求根节点字段）。\n",
    "| ID | 年龄 | 有工作 | 有自己的房子 | 信贷情况 | 类别（是否同意贷款） |\n",
    "|----|----|-----|--------|------|------------|\n",
    "| 1  | 青年 | 否   | 否      | 一般   | 否          |\n",
    "| 2  | 青年 | 否   | 否      | 好    | 否          |\n",
    "| 3  | 青年 | 是   | 否      | 好    | 是          |\n",
    "| 4  | 青年 | 是   | 是      | 一般   | 是          |\n",
    "| 5  | 青年 | 否   | 否      | 一般   | 否          |\n",
    "| 6  | 中年 | 否   | 否      | 一般   | 否          |\n",
    "| 7  | 中年 | 否   | 否      | 好    | 否          |\n",
    "| 8  | 中年 | 是   | 是      | 好    | 是          |\n",
    "| 9  | 中年 | 否   | 是      | 非常好  | 是          |\n",
    "| 10 | 中年 | 否   | 是      | 非常好  | 是          |\n",
    "| 11 | 老年 | 否   | 是      | 非常好  | 是          |\n",
    "| 12 | 老年 | 否   | 是      | 好    | 是          |\n",
    "| 13 | 老年 | 是   | 否      | 好    | 是          |\n",
    "| 14 | 老年 | 是   | 否      | 非常好  | 是          |\n",
    "| 15 | 老年 | 否   | 否      | 一般   | 否          |\n"
   ]
  },
  {
   "cell_type": "markdown",
   "metadata": {},
   "source": [
    "### 0. 总\n",
    "$$\n",
    "p_{+}=\\frac{N_{+}}{N}=\\frac{9}{15}=\\frac{3}{5}\\qquad p_{-}=\\frac{N_{-}}{N}=\\frac{2}{5}\\\\\n",
    "H(T)=-p_{+}\\log_2{p_{+}}-p_{-}\\log_2{p_{-}}=\\frac{3}{5}\\log_2{\\frac{5}{3}}+\\frac{2}{5}\\log_2{\\frac{5}{2}}\\approx0.970951\n",
    "$$\n",
    "### 1. 年龄\n",
    "#### 1.1 青年\n",
    "$$\n",
    "p_{1+}=\\frac{N_{1+}}{N_{1}}=\\frac{2}{5}\\qquad p_{1-}=\\frac{N_{1-}}{N_{1}}=\\frac{3}{5}\\qquad P_{1}=\\frac{|T_{1}|}{|T|}=\\frac{5}{15}=\\frac{1}{3}\\\\\n",
    "H(T_{1})=-p_{+}\\log_2{p_{+}}-p_{-}\\log_2{p_{-}}=\\frac{2}{5}\\log_2{\\frac{5}{2}}+\\frac{3}{5}\\log_2{\\frac{5}{3}}\\approx0.970951\\\\\n",
    "$$\n",
    "#### 1.2 中年\n",
    "$$\n",
    "p_{1+}=\\frac{N_{1+}}{N_{1}}=\\frac{3}{5}\\qquad p_{1-}=\\frac{N_{1-}}{N_{1}}=\\frac{2}{5}\\qquad P_{1}=\\frac{|T_{1}|}{|T|}=\\frac{5}{15}=\\frac{1}{3}\\\\\n",
    "H(T_{1})=-p_{+}\\log_2{p_{+}}-p_{-}\\log_2{p_{-}}=\\frac{3}{5}\\log_2{\\frac{5}{3}}+\\frac{2}{5}\\log_2{\\frac{5}{2}}\\approx0.970951\\\\\n",
    "$$\n",
    "#### 1.3 老年\n",
    "$$\n",
    "p_{1+}=\\frac{N_{1+}}{N_{1}}=\\frac{4}{5}\\qquad p_{1-}=\\frac{N_{1-}}{N_{1}}=\\frac{1}{5}\\qquad P_{1}=\\frac{|T_{1}|}{|T|}=\\frac{5}{15}=\\frac{1}{3}\\\\\n",
    "H(T_{1})=-p_{+}\\log_2{p_{+}}-p_{-}\\log_2{p_{-}}=\\frac{4}{5}\\log_2{\\frac{5}{4}}+\\frac{1}{5}\\log_2{5}\\approx0.721928\\\\\n",
    "$$\n",
    "#### 1.4 综合\n",
    "$$\n",
    "H(T,年龄)=\\sum_i^3{P_{i}\\cdot H(T_{i})}=\\frac{1}{3}\\times0.970951+\\frac{1}{3}\\times0.970951+\\frac{1}{3}\\times0.721928\\approx0.887943\\\\\n",
    "I(T,年龄)=H(T)-H(T,年龄)=0.970951-0.887943=0.083008\n",
    "$$\n"
   ]
  },
  {
   "cell_type": "markdown",
   "metadata": {},
   "source": [
    "### 2. 有工作\n",
    "#### 2.1 是\n",
    "$$\n",
    "p_{1+}=\\frac{N_{1+}}{N_{1}}=1\\qquad p_{1-}=\\frac{N_{1-}}{N_{1}}=0\\qquad P_{1}=\\frac{|T_{1}|}{|T|}=\\frac{1}{3}\\\\\n",
    "H(T_{1})=-p_{+}\\log_2{p_{+}}-p_{-}\\log_2{p_{-}}=-\\log_2{1}-\\lim_{x\\rightarrow 0}{[x\\ln{x}]}=0\\\\\n",
    "$$\n",
    "#### 2.2 否\n",
    "$$\n",
    "p_{2+}=\\frac{N_{2+}}{N_{2}}=\\frac{2}{5}\\qquad p_{2-}=\\frac{N_{2-}}{N_{2}}=\\frac{3}{5}\\qquad P_{2}=\\frac{|T_{2}|}{|T|}=\\frac{2}{3}\\\\\n",
    "H(T_{2})=-p_{+}\\log_2{p_{+}}-p_{-}\\log_2{p_{-}}=\\frac{2}{5}\\log_2{\\frac{5}{2}}+\\frac{3}{5}\\log_2{\\frac{5}{3}}=0.970951\\\\\n",
    "$$\n",
    "#### 2.3 综合\n",
    "$$\n",
    "H(T,有工作)=\\sum_i^2{P_{i}\\cdot H(T_{i})}=\\frac{1}{3}\\times0+\\frac{2}{3}\\times0.970951\\approx0.647301\\\\\n",
    "I(T,有工作)=H(T)-H(T,有工作)=0.970951-0.647301=0.32365\n",
    "$$"
   ]
  },
  {
   "cell_type": "markdown",
   "metadata": {},
   "source": [
    "### 3. 有自己的房子\n",
    "#### 3.1 是\n",
    "$$\n",
    "p_{1+}=\\frac{N_{1+}}{N_{1}}=1\\qquad p_{1-}=\\frac{N_{1-}}{N_{1}}=0\\qquad P_{1}=\\frac{|T_{1}|}{|T|}=\\frac{2}{5}\\\\\n",
    "H(T_{1})=-p_{+}\\log_2{p_{+}}-p_{-}\\log_2{p_{-}}=-\\log_2{1}-\\lim_{x\\rightarrow 0}{[x\\ln{x}]}=0\\\\\n",
    "$$\n",
    "#### 3.2 否\n",
    "$$\n",
    "p_{2+}=\\frac{N_{2+}}{N_{2}}=\\frac{1}{3}\\qquad p_{2-}=\\frac{N_{2-}}{N_{2}}=\\frac{2}{3}\\qquad P_{2}=\\frac{|T_{2}|}{|T|}=\\frac{3}{5}\\\\\n",
    "H(T_{2})=-p_{+}\\log_2{p_{+}}-p_{-}\\log_2{p_{-}}=\\frac{1}{3}\\log_2{3}+\\frac{2}{3}\\log_2{\\frac{3}{2}}=0.918296\\\\\n",
    "$$\n",
    "#### 3.3 综合\n",
    "$$\n",
    "H(T,有自己的房子)=\\sum_i^3{P_{i}\\cdot H(T_{i})}=\\frac{2}{5}\\times0+\\frac{3}{5}\\times0.918296=0.550978\\\\\n",
    "I(T,有自己的房子)=H(T)-H(T,有自己的房子)=0.970951-0.550978=0.419973\n"
   ]
  },
  {
   "cell_type": "markdown",
   "metadata": {},
   "source": [
    "### 4. 信贷情况\n",
    "#### 4.1 一般\n",
    "$$\n",
    "p_{1+}=\\frac{N_{1+}}{N_{1}}=\\frac{1}{5}\\qquad p_{1-}=\\frac{N_{1-}}{N_{1}}=\\frac{4}{5}\\qquad P_{1}=\\frac{|T_{1}|}{|T|}=\\frac{1}{3}\\\\\n",
    "H(T_{1})=-p_{+}\\log_2{p_{+}}-p_{-}\\log_2{p_{-}}=\\frac{1}{5}\\log_2{5}+\\frac{4}{5}\\log_2{\\frac{5}{4}}\\approx0.721928\\\\\n",
    "$$\n",
    "#### 4.2 好\n",
    "$$\n",
    "p_{2+}=\\frac{N_{2+}}{N_{2}}=\\frac{2}{3}\\qquad p_{2-}=\\frac{N_{2-}}{N_{2}}=\\frac{1}{3}\\qquad P_{2}=\\frac{|T_{2}|}{|T|}=\\frac{2}{5}\\\\\n",
    "H(T_{2})=-p_{+}\\log_2{p_{+}}-p_{-}\\log_2{p_{-}}=\\frac{2}{3}\\log_2{\\frac{3}{2}}+\\frac{1}{3}\\log_2{3}\\approx0.918296\\\\\n",
    "$$\n",
    "#### 4.2 非常好\n",
    "$$\n",
    "p_{2+}=\\frac{N_{2+}}{N_{2}}=1\\qquad p_{2-}=\\frac{N_{2-}}{N_{2}}=0\\qquad P_{2}=\\frac{|T_{2}|}{|T|}=\\frac{4}{15}\\\\\n",
    "H(T_{2})=-p_{+}\\log_2{p_{+}}-p_{-}\\log_2{p_{-}}=-\\log_2{1}-\\lim_{x\\rightarrow 0}{[x\\ln{x}]}=0\\\\\n",
    "$$\n",
    "#### 4.4 综合\n",
    "$$\n",
    "H(T,信贷情况)=\\sum_i^3{P_{i}\\cdot H(T_{i})}=\\frac{1}{3}\\times0.721928+\\frac{2}{5}\\times0.918296+\\frac{4}{15}\\times0\\approx0.607961\\\\\n",
    "I(T,信贷情况)=H(T)-H(T,信贷情况)=0.970951-0.607961=0.36299\n",
    "$$\n"
   ]
  },
  {
   "cell_type": "markdown",
   "metadata": {},
   "source": [
    "### 5. 结果\n",
    "$$\n",
    "\\max\\{I(T,a)\\}=\\max\\{0.083008,0.32365,0.419973,0.36299\\}=0.419973\n",
    "$$\n",
    "当$a$为有房子时，$I(T,a)$取到最大值。\n",
    "\n",
    "综上，用信息量的方法计算出是否买房决策树要问的第一个问题（即决策树的树根）是**有房子**。"
   ]
  },
  {
   "cell_type": "markdown",
   "metadata": {},
   "source": [
    "## 七\n",
    "__Task.__ In the neural network below, let the transfer function be $f(\\Sigma)=\\frac{1}{1+e^{-\\Sigma}}$. Using backpropagation of error (with $\\eta=0.1$), show how the weights are modified after the presentation of the following example: $[\\mathbf x,\\mathbf t(\\mathbf x)]=[(1,-1),(1,0)]$\n",
    "\n",
    "__任务.__ 在下面的神经网络中，让传递函数为$f(\\Sigma)=\\frac{1}{1+e^{-\\Sigma}}$。使用误差反向传播（使用$\\eta=0.1$），展示如何修改权重，在演示以下示例后 ：$[\\mathbf x,\\mathbf t(\\mathbf x)]=[(1,-1),(1,0)]$\n",
    "\n",
    "<img src=\"T7.png\" alt=\"第七题\" style=\"zoom:25%;\" />\n"
   ]
  },
  {
   "cell_type": "markdown",
   "metadata": {},
   "source": [
    "**以下部分中的代码用于验证**"
   ]
  },
  {
   "cell_type": "code",
   "execution_count": 20,
   "metadata": {},
   "outputs": [],
   "source": [
    "import torch\n",
    "import torch.nn as nn\n",
    "import numpy as np\n",
    "\n",
    "class LR(nn.Module):\n",
    "    def __init__(self):\n",
    "        super(LR, self).__init__()\n",
    "        self.hiden = nn.Linear(2, 2,bias=False)  # 无bias偏差\n",
    "        self.hiden.weight.data = torch.Tensor([[-1,1],[1,1]]).T  # 初始化权重\n",
    "        self.out = nn.Linear(2, 2,bias=False)  # 无bias偏差\n",
    "        self.out.weight.data = torch.Tensor([[1,-1],[1,1]]).T  # 初始化权重\n",
    "        self.sigmoid = nn.Sigmoid()\n",
    "\n",
    "#  每次前向计算方法，必须重写\n",
    "    def forward(self, x):\n",
    "        x = self.hiden(x)\n",
    "        print(x)\n",
    "        x = self.sigmoid(x)\n",
    "        print(x)\n",
    "        x = self.out(x)\n",
    "        print(x)\n",
    "        x = self.sigmoid(x)\n",
    "        print(x)\n",
    "        return x\n",
    "\n",
    "lr_net = LR()   # 实例化逻辑回归模型\n",
    "loss_fn = nn.MSELoss()"
   ]
  },
  {
   "cell_type": "markdown",
   "metadata": {},
   "source": [
    "### 准备工作：sigmoid函数的导数\n",
    "sigmoid函数\n",
    "$$ f(x) = \\frac{1}{1+e^{-x}} $$\n",
    "$$ g(x)=f'(x) = f(x)(1-f(x)) $$"
   ]
  },
  {
   "cell_type": "code",
   "execution_count": 21,
   "metadata": {},
   "outputs": [],
   "source": [
    "lr = 0.1  # 学习率\\eta\n",
    "optimizer = torch.optim.SGD(lr_net.parameters(), lr=lr)  # SGD优化器，与我们学习的w+lr*delta*x的权重修正方式所对应\n",
    "x = torch.tensor([1.,-1.],requires_grad=True)  # 输入数据\n",
    "t = torch.Tensor([1,0])  # 目标数据"
   ]
  },
  {
   "cell_type": "markdown",
   "metadata": {},
   "source": [
    "### 正向传播\n",
    "#### 第一层\n",
    "$$\n",
    "\\begin{aligned}\n",
    "e_1=&w_{11}x_1+w_{21}x_2=-2\\\\\n",
    "e_2=&w_{12}x_1+w_{22}x_2=0\\\\\n",
    "h_1=&f(e_1)=\\frac{1}{1+\\mathrm{e}^2}=0.119203\\\\\n",
    "h_2=&f(e_2)=\\frac{1}{1+\\mathrm{e}^0}=0.5\n",
    "\\end{aligned}\n",
    "$$\n",
    "#### 第二层\n",
    "$$\n",
    "\\begin{aligned}\n",
    "e_3=&w_{33}h_1+w_{43}h_2=1*0.119203+1*0.5=0.619203\\\\\n",
    "e_4=&w_{34}h_1+w_{44}h_2=-1*0.119203+1*0.5=0.380797\\\\\n",
    "y_1=&f(e_3)=\\frac{1}{1+\\mathrm{e}^{-0.619203}}=0.650037\\\\\n",
    "y_2=&f(e_4)=\\frac{1}{1+\\mathrm{e}^{-0.380797}}=0.594065\n",
    "\\end{aligned}\n",
    "$$"
   ]
  },
  {
   "cell_type": "markdown",
   "metadata": {},
   "source": [
    "**矩阵表示**\n",
    "$$\n",
    "\\begin{pmatrix}\n",
    "e_1\\\\e_2\n",
    "\\end{pmatrix}=\n",
    "\\begin{pmatrix}\n",
    "w_{11}&w_{12}\\\\w_{21}&w_{22}\n",
    "\\end{pmatrix}^T\n",
    "\\begin{pmatrix}\n",
    "x_1\\\\x_2\n",
    "\\end{pmatrix}=\n",
    "\\begin{pmatrix}\n",
    "2\\\\0\n",
    "\\end{pmatrix}\n",
    "$$\n",
    "$$\n",
    "\\begin{pmatrix}\n",
    "h_1\\\\h_2\n",
    "\\end{pmatrix}=\n",
    "f\\left[\\begin{pmatrix}\n",
    "e_1\\\\e_2\n",
    "\\end{pmatrix}\\right]=\n",
    "\\begin{pmatrix}\n",
    "0.119203\\\\0.5\n",
    "\\end{pmatrix}\n",
    "$$\n",
    "\n",
    "$$\n",
    "\\begin{pmatrix}\n",
    "e_3\\\\e_4\n",
    "\\end{pmatrix}=\n",
    "\\begin{pmatrix}\n",
    "w_{33}&w_{34}\\\\w_{43}&w_{44}\n",
    "\\end{pmatrix}^T\n",
    "\\begin{pmatrix}\n",
    "h_1\\\\h_2\n",
    "\\end{pmatrix}=\n",
    "\\begin{pmatrix}\n",
    "0.619203\\\\0.380797\n",
    "\\end{pmatrix}\n",
    "$$\n",
    "$$\n",
    "\\begin{pmatrix}\n",
    "y_1\\\\y_2\n",
    "\\end{pmatrix}=\n",
    "f\\left[\\begin{pmatrix}\n",
    "e_3\\\\e_4\n",
    "\\end{pmatrix}\\right]=\n",
    "\\begin{pmatrix}\n",
    "0.650037\\\\0.594065\n",
    "\\end{pmatrix}\n",
    "$$"
   ]
  },
  {
   "cell_type": "code",
   "execution_count": 22,
   "metadata": {},
   "outputs": [
    {
     "name": "stdout",
     "output_type": "stream",
     "text": [
      "tensor([-2.,  0.], grad_fn=<SqueezeBackward3>)\n",
      "tensor([0.1192, 0.5000], grad_fn=<SigmoidBackward>)\n",
      "tensor([0.6192, 0.3808], grad_fn=<SqueezeBackward3>)\n",
      "tensor([0.6500, 0.5941], grad_fn=<SigmoidBackward>)\n"
     ]
    }
   ],
   "source": [
    "# 前向传播\n",
    "y_pred = lr_net(x)"
   ]
  },
  {
   "cell_type": "markdown",
   "metadata": {},
   "source": [
    "### 反向传播"
   ]
  },
  {
   "cell_type": "code",
   "execution_count": 23,
   "metadata": {},
   "outputs": [],
   "source": [
    "# 计算 loss\n",
    "loss = loss_fn(y_pred.squeeze(), t)\n",
    "# 反向传播\n",
    "loss.backward()"
   ]
  },
  {
   "cell_type": "markdown",
   "metadata": {},
   "source": [
    "#### 第二层\n",
    "$$\n",
    "\\begin{aligned}\n",
    "\\delta_3=&y_1(1-y_1)(t_1-y_1)=0.650037*(1-0.650037)*(1-0.650037)=0.0796127\\\\\n",
    "\\delta_4=&y_2(1-y_2)(t_2-y_2)=0.594065*(1-0.594065)*(0-0.594065)=-0.14326\n",
    "\\end{aligned}\n",
    "$$\n",
    "#### 第一层\n",
    "$$\n",
    "\\begin{aligned}\n",
    "\\delta_1=&h_1(1-h_1) \\sum_{i=3}^{4} \\delta_i w_{3i}=0.119203*(1-0.119203)*(0.0796127*1+-0.14326*-1)=0.0234002\\\\\n",
    "\\delta_2=&h_2(1-h_2) \\sum_{i=3}^{4} \\delta_i w_{4i}=0.5*(1-0.5)*(0.0796127*1+-0.14326*1)=-0.0159118\n",
    "\\end{aligned}\n",
    "$$"
   ]
  },
  {
   "cell_type": "markdown",
   "metadata": {},
   "source": [
    "**矩阵表示**\n",
    "$$\n",
    "\\begin{pmatrix}\n",
    "\\delta_3\\\\\\delta_4\n",
    "\\end{pmatrix}=\n",
    "g\\begin{pmatrix}\n",
    "y_1\\\\y_2\n",
    "\\end{pmatrix}*\n",
    "\\left[\n",
    "\\begin{pmatrix}\n",
    "t_1\\\\t_2\n",
    "\\end{pmatrix}-\n",
    "\\begin{pmatrix}\n",
    "y_1\\\\y_2\n",
    "\\end{pmatrix}\\right]=\n",
    "\\begin{pmatrix}\n",
    "0.0796127\\\\-0.14326\n",
    "\\end{pmatrix}\n",
    "$$\n",
    "\n",
    "$$\n",
    "\\begin{pmatrix}\n",
    "\\delta_1\\\\\\delta_2\n",
    "\\end{pmatrix}=\n",
    "g\\begin{pmatrix}\n",
    "h_1\\\\h_2\n",
    "\\end{pmatrix}*\n",
    "\\begin{pmatrix}\n",
    "w_{33}&w_{34}\\\\w_{43}&w_{44}\n",
    "\\end{pmatrix}\n",
    "\\begin{pmatrix}\n",
    "\\delta_3\\\\\\delta_4\n",
    "\\end{pmatrix}=\n",
    "\\begin{pmatrix}\n",
    "0.0234002\\\\-0.0159118\n",
    "\\end{pmatrix}\n",
    "\n",
    "$$"
   ]
  },
  {
   "cell_type": "markdown",
   "metadata": {},
   "source": [
    "### 权重修正"
   ]
  },
  {
   "cell_type": "code",
   "execution_count": 24,
   "metadata": {},
   "outputs": [],
   "source": [
    "# 更新参数\n",
    "optimizer.step()\n",
    "# 清空梯度\n",
    "optimizer.zero_grad()"
   ]
  },
  {
   "cell_type": "markdown",
   "metadata": {},
   "source": [
    "#### 第一层\n",
    "$$\n",
    "\\begin{aligned}\n",
    "w_{11}^{'}=&w_{11}+\\eta\\delta_1x_1=-1+0.1*0.0234002*1=-0.99766\\\\\n",
    "w_{21}^{'}=&w_{21}+\\eta\\delta_1x_2=1+0.1*0.0234002*-1=0.99766\\\\\n",
    "w_{12}^{'}=&w_{12}+\\eta\\delta_2x_1=1+0.1*-0.0159118*1=0.998409\\\\\n",
    "w_{22}^{'}=&w_{22}+\\eta\\delta_2x_2=1+0.1*-0.0159118*-1=1.00159\n",
    "\\end{aligned}\n",
    "$$"
   ]
  },
  {
   "cell_type": "markdown",
   "metadata": {},
   "source": [
    "**矩阵表示**\n",
    "$$\n",
    "\\begin{pmatrix}\n",
    "w_{11}^{'}&w_{12}^{'}\\\\w_{21}^{'}&w_{22}^{'}\n",
    "\\end{pmatrix}=\n",
    "\\begin{pmatrix}\n",
    "w_{11}&w_{12}\\\\w_{21}&w_{22}\n",
    "\\end{pmatrix}+\n",
    "\\eta\n",
    "\\begin{pmatrix}\n",
    "x_1\\\\x_2\n",
    "\\end{pmatrix}\n",
    "\\begin{pmatrix}\n",
    "\\delta_1&\\delta_2\n",
    "\\end{pmatrix}\n",
    "$$"
   ]
  },
  {
   "cell_type": "code",
   "execution_count": 25,
   "metadata": {},
   "outputs": [
    {
     "data": {
      "text/plain": [
       "tensor([[-0.9977,  0.9984],\n",
       "        [ 0.9977,  1.0016]])"
      ]
     },
     "execution_count": 25,
     "metadata": {},
     "output_type": "execute_result"
    }
   ],
   "source": [
    "lr_net.hiden.weight.data.T"
   ]
  },
  {
   "cell_type": "markdown",
   "metadata": {},
   "source": [
    "#### 第二层\n",
    "$$\n",
    "\\begin{aligned}\n",
    "w_{33}^{'}=&w_{33}+\\eta\\delta_3h_1=1+0.1*0.0796127*0.119203=1.00095\\\\\n",
    "w_{43}^{'}=&w_{43}+\\eta\\delta_3h_2=1+0.1*0.0796127*0.5=1.00398\\\\\n",
    "w_{34}^{'}=&w_{34}+\\eta\\delta_4h_1=-1+0.1*-0.14326*0.119203=-1.00171\\\\\n",
    "w_{44}^{'}=&w_{44}+\\eta\\delta_4h_2=1+0.1*-0.14326*0.5=0.992837\n",
    "\\end{aligned}\n",
    "$$"
   ]
  },
  {
   "cell_type": "markdown",
   "metadata": {},
   "source": [
    "**矩阵表示**\n",
    "$$\n",
    "\\begin{pmatrix}\n",
    "w_{33}^{'}&w_{34}^{'}\\\\w_{43}^{'}&w_{44}^{'}\n",
    "\\end{pmatrix}=\n",
    "\\begin{pmatrix}\n",
    "w_{33}&w_{34}\\\\w_{43}&w_{44}\n",
    "\\end{pmatrix}+\n",
    "\\eta\n",
    "\\begin{pmatrix}\n",
    "h_1\\\\h_2\n",
    "\\end{pmatrix}\n",
    "\\begin{pmatrix}\n",
    "\\delta_3&\\delta_4\n",
    "\\end{pmatrix}\n",
    "$$"
   ]
  },
  {
   "cell_type": "code",
   "execution_count": 26,
   "metadata": {},
   "outputs": [
    {
     "data": {
      "text/plain": [
       "tensor([[ 1.0009, -1.0017],\n",
       "        [ 1.0040,  0.9928]])"
      ]
     },
     "execution_count": 26,
     "metadata": {},
     "output_type": "execute_result"
    }
   ],
   "source": [
    "lr_net.out.weight.data.T"
   ]
  },
  {
   "cell_type": "markdown",
   "metadata": {},
   "source": [
    "## 八\n",
    "简答题：（1）线性感知机的学习规则为$w_i=w_i+\\eta\\cdot\\left[c(x)-h(x)\\right]\\cdot x_i$，请解释它的内容以及它所蕴含的思想。（2）简述遗传算法的思想，重点说明基因在算法里是如何实现的。"
   ]
  },
  {
   "cell_type": "markdown",
   "metadata": {},
   "source": [
    "### （1-1）内容\n",
    "\n",
    "- $\\eta$为感知机的学习率，在$0\\sim 1$之间\n",
    "- $w_i$为权重向量的第$i$个分量\n",
    "- $\\mathbf x$是$n$维向量，$x_i$代表其第$i$个分量\n",
    "- $c(x)$是对输入值的期望输出\n",
    "- $h(x)=f(\\mathbf w\\cdot\\mathbf x_j)$是感知机的实际输出，其中\n",
    "$\n",
    "f\\left( \\mathbf{w}\\cdot \\mathbf{x} \\right) =\\begin{cases}\n",
    "\t1,\\mathbf{w}\\cdot \\mathbf{x}>0\\\\\n",
    "\t0,\\mathrm{else}\\\\\n",
    "\\end{cases}\n",
    "$\n",
    "为二元值函数\n",
    "\n",
    "这种二进制分类器是一个函数，它可以决定由数字向量表示的输入是否属于某个特定类。它是一种线性分类器，即基于线性预测器函数组合一组权重与特征向量。\n",
    "\n",
    "经过多次$w_i$和$h(x)$的迭代，可以通过设置收敛条件等得到一个确定的值。\n",
    "\n",
    "### （1-2）思想\n",
    "反向传播算法作用在线性网络（无非线性激活函数）中。"
   ]
  },
  {
   "cell_type": "markdown",
   "metadata": {},
   "source": [
    "### （2-1）思想\n",
    "随机神经网络的参数组合，将其中数个优秀的参数组合，互相随机替换，得到另一些参数组合，再加上新生成的一些随机参数组合，共同重复之前的操作。蕴含了自然界中物种相互杂交，经过自然选择后剩下的优质物种再相互杂交，不断重复。\n",
    "\n",
    "### （2-2）基因\n",
    "遗传算法中的基因，即为神经网络中的参数组合。通过参数的初始化，形成最初的基因；通过不同参数组合中参数随机互换，形成基因的重组；抛去损失函数大的参数组合，形成自然选择的机制。"
   ]
  },
  {
   "cell_type": "markdown",
   "metadata": {},
   "source": []
  }
 ],
 "metadata": {
  "interpreter": {
   "hash": "474df3d2afca2021df4a34dc6b6349abbee314f1889385c711c5dd7210ac9d2f"
  },
  "kernelspec": {
   "display_name": "Python 3.9.5 64-bit",
   "language": "python",
   "name": "python3"
  },
  "language_info": {
   "codemirror_mode": {
    "name": "ipython",
    "version": 3
   },
   "file_extension": ".py",
   "mimetype": "text/x-python",
   "name": "python",
   "nbconvert_exporter": "python",
   "pygments_lexer": "ipython3",
   "version": "3.9.5"
  },
  "orig_nbformat": 4
 },
 "nbformat": 4,
 "nbformat_minor": 2
}
